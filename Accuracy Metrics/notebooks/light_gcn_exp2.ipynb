{
 "cells": [
  {
   "attachments": {},
   "cell_type": "markdown",
   "metadata": {},
   "source": [
    "<i>Copyright (c) Microsoft Corporation. All rights reserved.</i>\n",
    "\n",
    "<i>Licensed under the MIT License.</i>\n",
    "\n",
    "<i>This notebook has been taken from Microsoft's recommender system library: [Source](https://github.com/microsoft/recommenders/blob/main/examples/02_model_collaborative_filtering/lightgcn_deep_dive.ipynb). It has been modified to fit the context of our study. The modifications include the addition of new evaluation methods, the ability to add new datasets, and cluster validation process.</i>"
   ]
  },
  {
   "attachments": {},
   "cell_type": "markdown",
   "metadata": {},
   "source": [
    "# LightGCN - simplified GCN model for recommendation\n",
    "\n",
    "This notebook serves as an introduction to LightGCN [1], which is an simple, linear and neat Graph Convolution Network (GCN) [3] model for recommendation."
   ]
  },
  {
   "attachments": {},
   "cell_type": "markdown",
   "metadata": {},
   "source": [
    "## 0 Global Settings and Imports"
   ]
  },
  {
   "cell_type": "code",
   "execution_count": 1,
   "metadata": {},
   "outputs": [
    {
     "name": "stdout",
     "output_type": "stream",
     "text": [
      "System version: 3.9.16 | packaged by conda-forge | (main, Feb  1 2023, 21:28:38) [MSC v.1929 64 bit (AMD64)]\n",
      "Pandas version: 1.5.3\n",
      "Tensorflow version: 2.12.0\n"
     ]
    }
   ],
   "source": [
    "import sys\n",
    "import os\n",
    "import codecs\n",
    "import scrapbook as sb\n",
    "import pandas as pd\n",
    "import numpy as np\n",
    "import tensorflow as tf\n",
    "tf.get_logger().setLevel('ERROR') # only show error messages\n",
    "\n",
    "from recommenders.utils.timer import Timer\n",
    "from recommenders.models.deeprec.models.graphrec.lightgcn import LightGCN\n",
    "from recommenders.models.deeprec.DataModel.ImplicitCF import ImplicitCF\n",
    "from recommenders.datasets import movielens\n",
    "from recommenders.datasets.python_splitters import python_stratified_split\n",
    "from recommenders.utils.constants import SEED as DEFAULT_SEED\n",
    "from recommenders.models.deeprec.deeprec_utils import prepare_hparams\n",
    "from recommenders.evaluation.python_evaluation import (\n",
    "    map_at_k,\n",
    "    ndcg_at_k,\n",
    "    precision_at_k,\n",
    "    recall_at_k,\n",
    "    serendipity,\n",
    "    user_serendipity,\n",
    "    user_item_serendipity,\n",
    "    catalog_coverage\n",
    ")\n",
    "\n",
    "print(\"System version: {}\".format(sys.version))\n",
    "print(\"Pandas version: {}\".format(pd.__version__))\n",
    "print(\"Tensorflow version: {}\".format(tf.__version__))\n",
    "os.chdir('../')"
   ]
  },
  {
   "cell_type": "code",
   "execution_count": 2,
   "metadata": {
    "tags": [
     "parameters"
    ]
   },
   "outputs": [],
   "source": [
    "# top k items to recommend\n",
    "TOP_K = 10\n",
    "\n",
    "# Select MovieLens data size: 100k, 1m, 10m, or 20m\n",
    "MOVIELENS_DATA_SIZE = '100k'\n",
    "\n",
    "# Model parameters\n",
    "EPOCHS = 50\n",
    "BATCH_SIZE = 1024\n",
    "\n",
    "SEED = DEFAULT_SEED  # Set None for non-deterministic results\n",
    "\n",
    "yaml_file = \"./models/lightgcn/config/lightgcn.yaml\"\n",
    "user_file = \"./models/lightgcn/output/tests/user_embeddings.csv\"\n",
    "item_file = \"./models/lightgcn/output/item_embeddings.csv\""
   ]
  },
  {
   "cell_type": "code",
   "execution_count": 3,
   "metadata": {},
   "outputs": [],
   "source": [
    "ratio = 0.85\n",
    "dataset = 'ml-100k'\n",
    "dataset_path = os.path.join('datasets', dataset)\n",
    "\n",
    "ratings_path = os.path.join(dataset_path, 'u.data')\n",
    "ratings_file = codecs.open(ratings_path, 'rU', 'UTF-8')\n",
    "df = pd.read_csv(ratings_file, sep='\\t', names=('userID', 'itemID', 'rating', 'timestamp'))\n",
    "\n",
    "# Normal train/test split (random portion) \n",
    "# train, test = python_stratified_split(df, ratio=ratio)\n",
    "train_df = pd.read_csv('output/exp-2/train.csv')\n",
    "test_df = pd.read_csv('output/exp-2/test.csv')"
   ]
  },
  {
   "cell_type": "code",
   "execution_count": 4,
   "metadata": {},
   "outputs": [],
   "source": [
    "clusters = pd.read_csv('./output/exp-2/group_clusters.csv', usecols=['user_id', 'group', 'group_group'])\n",
    "train_clusters = train_df.reset_index().merge(clusters, left_on='userID', right_on='user_id').drop(columns=['user_id'])\n",
    "\n",
    "# Target group cluster (we iterate over all of them in every run)\n",
    "target_group = 9\n",
    "target_group_df = train_clusters[train_clusters['group_group'] == target_group]\n",
    "train = target_group_df[['userID', 'itemID', 'rating', 'timestamp']]\n",
    "\n",
    "# Choose only ratings that can be predicted\n",
    "users_in_train = list(set(train.userID.to_list()))\n",
    "test = test_df[test_df.userID.isin(users_in_train)]"
   ]
  },
  {
   "cell_type": "code",
   "execution_count": 5,
   "metadata": {},
   "outputs": [
    {
     "name": "stdout",
     "output_type": "stream",
     "text": [
      "total users in main dataset: 943\n",
      "total users in train dataset: 95\n",
      "total users in test dataset: 95\n"
     ]
    }
   ],
   "source": [
    "print(\"total users in main dataset:\", len(list(set(df.userID.to_list()))))\n",
    "print(\"total users in train dataset:\", len(list(set(train.userID.to_list()))))\n",
    "print(\"total users in test dataset:\", len(list(set(test.userID.to_list()))))\n",
    "# train = train.set_index('index')\n",
    "# test = test.set_index('index')"
   ]
  },
  {
   "cell_type": "code",
   "execution_count": 6,
   "metadata": {},
   "outputs": [
    {
     "data": {
      "text/html": [
       "<div>\n",
       "<style scoped>\n",
       "    .dataframe tbody tr th:only-of-type {\n",
       "        vertical-align: middle;\n",
       "    }\n",
       "\n",
       "    .dataframe tbody tr th {\n",
       "        vertical-align: top;\n",
       "    }\n",
       "\n",
       "    .dataframe thead th {\n",
       "        text-align: right;\n",
       "    }\n",
       "</style>\n",
       "<table border=\"1\" class=\"dataframe\">\n",
       "  <thead>\n",
       "    <tr style=\"text-align: right;\">\n",
       "      <th></th>\n",
       "      <th>userID</th>\n",
       "      <th>itemID</th>\n",
       "      <th>rating</th>\n",
       "      <th>timestamp</th>\n",
       "    </tr>\n",
       "  </thead>\n",
       "  <tbody>\n",
       "    <tr>\n",
       "      <th>25483</th>\n",
       "      <td>293</td>\n",
       "      <td>77</td>\n",
       "      <td>2</td>\n",
       "      <td>888907210</td>\n",
       "    </tr>\n",
       "    <tr>\n",
       "      <th>25484</th>\n",
       "      <td>293</td>\n",
       "      <td>386</td>\n",
       "      <td>2</td>\n",
       "      <td>888908065</td>\n",
       "    </tr>\n",
       "    <tr>\n",
       "      <th>25485</th>\n",
       "      <td>293</td>\n",
       "      <td>1226</td>\n",
       "      <td>3</td>\n",
       "      <td>888905198</td>\n",
       "    </tr>\n",
       "    <tr>\n",
       "      <th>25486</th>\n",
       "      <td>293</td>\n",
       "      <td>566</td>\n",
       "      <td>3</td>\n",
       "      <td>888907312</td>\n",
       "    </tr>\n",
       "    <tr>\n",
       "      <th>25487</th>\n",
       "      <td>293</td>\n",
       "      <td>815</td>\n",
       "      <td>2</td>\n",
       "      <td>888905122</td>\n",
       "    </tr>\n",
       "    <tr>\n",
       "      <th>...</th>\n",
       "      <td>...</td>\n",
       "      <td>...</td>\n",
       "      <td>...</td>\n",
       "      <td>...</td>\n",
       "    </tr>\n",
       "    <tr>\n",
       "      <th>36055</th>\n",
       "      <td>387</td>\n",
       "      <td>10</td>\n",
       "      <td>4</td>\n",
       "      <td>886481228</td>\n",
       "    </tr>\n",
       "    <tr>\n",
       "      <th>36056</th>\n",
       "      <td>387</td>\n",
       "      <td>676</td>\n",
       "      <td>1</td>\n",
       "      <td>886480733</td>\n",
       "    </tr>\n",
       "    <tr>\n",
       "      <th>36057</th>\n",
       "      <td>387</td>\n",
       "      <td>180</td>\n",
       "      <td>4</td>\n",
       "      <td>886479737</td>\n",
       "    </tr>\n",
       "    <tr>\n",
       "      <th>36058</th>\n",
       "      <td>387</td>\n",
       "      <td>215</td>\n",
       "      <td>2</td>\n",
       "      <td>886483906</td>\n",
       "    </tr>\n",
       "    <tr>\n",
       "      <th>36059</th>\n",
       "      <td>387</td>\n",
       "      <td>380</td>\n",
       "      <td>2</td>\n",
       "      <td>886484098</td>\n",
       "    </tr>\n",
       "  </tbody>\n",
       "</table>\n",
       "<p>10577 rows × 4 columns</p>\n",
       "</div>"
      ],
      "text/plain": [
       "       userID  itemID  rating  timestamp\n",
       "25483     293      77       2  888907210\n",
       "25484     293     386       2  888908065\n",
       "25485     293    1226       3  888905198\n",
       "25486     293     566       3  888907312\n",
       "25487     293     815       2  888905122\n",
       "...       ...     ...     ...        ...\n",
       "36055     387      10       4  886481228\n",
       "36056     387     676       1  886480733\n",
       "36057     387     180       4  886479737\n",
       "36058     387     215       2  886483906\n",
       "36059     387     380       2  886484098\n",
       "\n",
       "[10577 rows x 4 columns]"
      ]
     },
     "execution_count": 6,
     "metadata": {},
     "output_type": "execute_result"
    }
   ],
   "source": [
    "train"
   ]
  },
  {
   "cell_type": "code",
   "execution_count": 7,
   "metadata": {},
   "outputs": [
    {
     "data": {
      "text/plain": [
       "{0, 1, 2, 3, 5, 6, 9, 10, 12, 13, 15, 17, 18, 19}"
      ]
     },
     "execution_count": 7,
     "metadata": {},
     "output_type": "execute_result"
    }
   ],
   "source": [
    "set(train_clusters[train_clusters['group_group'] == 0].group.to_list())"
   ]
  },
  {
   "attachments": {},
   "cell_type": "markdown",
   "metadata": {},
   "source": [
    "### 2.2 Process data\n",
    "\n",
    "`ImplicitCF` is a class that intializes and loads data for the training process. During the initialization of this class, user IDs and item IDs are reindexed, ratings greater than zero are converted into implicit positive interaction, and adjacency matrix $R$ of user-item graph is created. Some important methods of `ImplicitCF` are:\n",
    "\n",
    "`get_norm_adj_mat`, load normalized adjacency matrix of user-item graph if it already exists in `adj_dir`, otherwise call `create_norm_adj_mat` to create the matrix and save the matrix if `adj_dir` is not `None`. This method will be called during the initialization process of LightGCN model.\n",
    "\n",
    "`create_norm_adj_mat`, create normalized adjacency matrix of user-item graph by calculating $D^{-\\frac{1}{2}} A D^{-\\frac{1}{2}}$, where $\\mathbf{A}=\\left(\\begin{array}{cc}\\mathbf{0} & \\mathbf{R} \\\\ \\mathbf{R}^{T} & \\mathbf{0}\\end{array}\\right)$.\n",
    "\n",
    "`train_loader`, generate a batch of training data — sample a batch of users and then sample one positive item and one negative item for each user. This method will be called before each epoch of the training process.\n"
   ]
  },
  {
   "cell_type": "code",
   "execution_count": 8,
   "metadata": {},
   "outputs": [
    {
     "name": "stderr",
     "output_type": "stream",
     "text": [
      "C:\\Users\\wessa\\AppData\\Roaming\\Python\\Python39\\site-packages\\recommenders\\models\\deeprec\\DataModel\\ImplicitCF.py:73: FutureWarning: The frame.append method is deprecated and will be removed from pandas in a future version. Use pandas.concat instead.\n",
      "  df = train if test is None else train.append(test)\n"
     ]
    }
   ],
   "source": [
    "data = ImplicitCF(train=train, test=test, seed=SEED)"
   ]
  },
  {
   "attachments": {},
   "cell_type": "markdown",
   "metadata": {},
   "source": [
    "### 2.3 Prepare hyper-parameters\n",
    "\n",
    "Important parameters of `LightGCN` model are:\n",
    "\n",
    "`data`, initialized LightGCNDataset object.\n",
    "\n",
    "`epochs`, number of epochs for training.\n",
    "\n",
    "`n_layers`, number of layers of the model.\n",
    "\n",
    "`eval_epoch`, if it is not None, evaluation metrics will be calculated on test set every \"eval_epoch\" epochs. In this way, we can observe the effect of the model during the training process.\n",
    "\n",
    "`top_k`, the number of items to be recommended for each user when calculating ranking metrics.\n",
    "\n",
    "A complete list of parameters can be found in `yaml_file`. We use `prepare_hparams` to read the yaml file and prepare a full set of parameters for the model. Parameters passed as the function's parameters will overwrite yaml settings."
   ]
  },
  {
   "cell_type": "code",
   "execution_count": 9,
   "metadata": {},
   "outputs": [],
   "source": [
    "hparams = prepare_hparams(\n",
    "    yaml_file,\n",
    "    n_layers=3,\n",
    "    batch_size=BATCH_SIZE,\n",
    "    epochs=EPOCHS,\n",
    "    learning_rate=0.005,\n",
    "    eval_epoch=5,\n",
    "    top_k=TOP_K,\n",
    ")"
   ]
  },
  {
   "attachments": {},
   "cell_type": "markdown",
   "metadata": {},
   "source": [
    "### 2.4 Create and train model\n",
    "\n",
    "With data and parameters prepared, we can create the LightGCN model.\n",
    "\n",
    "To train the model, we simply need to call the `fit()` method."
   ]
  },
  {
   "cell_type": "code",
   "execution_count": 10,
   "metadata": {},
   "outputs": [
    {
     "name": "stdout",
     "output_type": "stream",
     "text": [
      "Already create adjacency matrix.\n",
      "Already normalize adjacency matrix.\n",
      "Using xavier initialization.\n"
     ]
    }
   ],
   "source": [
    "model = LightGCN(hparams, data, seed=SEED)"
   ]
  },
  {
   "cell_type": "code",
   "execution_count": 11,
   "metadata": {},
   "outputs": [
    {
     "name": "stdout",
     "output_type": "stream",
     "text": [
      "Epoch 1 (train)0.3s: train loss = 0.68596 = (mf)0.68590 + (embed)0.00006\n",
      "Epoch 2 (train)0.2s: train loss = 0.64831 = (mf)0.64822 + (embed)0.00009\n",
      "Epoch 3 (train)0.2s: train loss = 0.55893 = (mf)0.55876 + (embed)0.00017\n",
      "Epoch 4 (train)0.2s: train loss = 0.46079 = (mf)0.46050 + (embed)0.00029\n",
      "Epoch 5 (train)0.2s + (eval)0.1s: train loss = 0.38865 = (mf)0.38821 + (embed)0.00044, recall = 0.14805, ndcg = 0.27333, precision = 0.21789, map = 0.07778\n",
      "Epoch 6 (train)0.2s: train loss = 0.35513 = (mf)0.35455 + (embed)0.00058\n",
      "Epoch 7 (train)0.2s: train loss = 0.32355 = (mf)0.32286 + (embed)0.00069\n",
      "Epoch 8 (train)0.2s: train loss = 0.31360 = (mf)0.31282 + (embed)0.00078\n",
      "Epoch 9 (train)0.2s: train loss = 0.29454 = (mf)0.29368 + (embed)0.00086\n",
      "Epoch 10 (train)0.2s + (eval)0.0s: train loss = 0.27835 = (mf)0.27742 + (embed)0.00093, recall = 0.15259, ndcg = 0.28639, precision = 0.23158, map = 0.08051\n",
      "Epoch 11 (train)0.2s: train loss = 0.26733 = (mf)0.26632 + (embed)0.00101\n",
      "Epoch 12 (train)0.2s: train loss = 0.25374 = (mf)0.25265 + (embed)0.00108\n",
      "Epoch 13 (train)0.2s: train loss = 0.24030 = (mf)0.23914 + (embed)0.00115\n",
      "Epoch 14 (train)0.2s: train loss = 0.23951 = (mf)0.23828 + (embed)0.00123\n",
      "Epoch 15 (train)0.2s + (eval)0.0s: train loss = 0.23069 = (mf)0.22938 + (embed)0.00131, recall = 0.15943, ndcg = 0.30422, precision = 0.25053, map = 0.08750\n",
      "Epoch 16 (train)0.2s: train loss = 0.22113 = (mf)0.21974 + (embed)0.00139\n",
      "Epoch 17 (train)0.2s: train loss = 0.21783 = (mf)0.21638 + (embed)0.00145\n",
      "Epoch 18 (train)0.2s: train loss = 0.20455 = (mf)0.20301 + (embed)0.00153\n",
      "Epoch 19 (train)0.2s: train loss = 0.20761 = (mf)0.20602 + (embed)0.00160\n",
      "Epoch 20 (train)0.2s + (eval)0.0s: train loss = 0.20183 = (mf)0.20016 + (embed)0.00167, recall = 0.14857, ndcg = 0.30446, precision = 0.24632, map = 0.08653\n",
      "Epoch 21 (train)0.2s: train loss = 0.19419 = (mf)0.19246 + (embed)0.00173\n",
      "Epoch 22 (train)0.2s: train loss = 0.20044 = (mf)0.19865 + (embed)0.00179\n",
      "Epoch 23 (train)0.2s: train loss = 0.19131 = (mf)0.18945 + (embed)0.00186\n",
      "Epoch 24 (train)0.2s: train loss = 0.18551 = (mf)0.18359 + (embed)0.00192\n",
      "Epoch 25 (train)0.2s + (eval)0.0s: train loss = 0.17834 = (mf)0.17636 + (embed)0.00197, recall = 0.15055, ndcg = 0.31489, precision = 0.24842, map = 0.09515\n",
      "Epoch 26 (train)0.2s: train loss = 0.17818 = (mf)0.17614 + (embed)0.00204\n",
      "Epoch 27 (train)0.2s: train loss = 0.17564 = (mf)0.17353 + (embed)0.00211\n",
      "Epoch 28 (train)0.2s: train loss = 0.17626 = (mf)0.17409 + (embed)0.00217\n",
      "Epoch 29 (train)0.2s: train loss = 0.16853 = (mf)0.16632 + (embed)0.00222\n",
      "Epoch 30 (train)0.2s + (eval)0.0s: train loss = 0.17475 = (mf)0.17247 + (embed)0.00228, recall = 0.15299, ndcg = 0.31174, precision = 0.24842, map = 0.09252\n",
      "Epoch 31 (train)0.2s: train loss = 0.16750 = (mf)0.16516 + (embed)0.00234\n",
      "Epoch 32 (train)0.2s: train loss = 0.16215 = (mf)0.15974 + (embed)0.00241\n",
      "Epoch 33 (train)0.2s: train loss = 0.15824 = (mf)0.15578 + (embed)0.00246\n",
      "Epoch 34 (train)0.2s: train loss = 0.15537 = (mf)0.15284 + (embed)0.00253\n",
      "Epoch 35 (train)0.2s + (eval)0.0s: train loss = 0.14994 = (mf)0.14734 + (embed)0.00260, recall = 0.15960, ndcg = 0.32081, precision = 0.25684, map = 0.09474\n",
      "Epoch 36 (train)0.2s: train loss = 0.15048 = (mf)0.14782 + (embed)0.00266\n",
      "Epoch 37 (train)0.2s: train loss = 0.14883 = (mf)0.14613 + (embed)0.00271\n",
      "Epoch 38 (train)0.2s: train loss = 0.14974 = (mf)0.14696 + (embed)0.00278\n",
      "Epoch 39 (train)0.2s: train loss = 0.13841 = (mf)0.13557 + (embed)0.00285\n",
      "Epoch 40 (train)0.2s + (eval)0.0s: train loss = 0.14360 = (mf)0.14070 + (embed)0.00290, recall = 0.16328, ndcg = 0.31979, precision = 0.26211, map = 0.09330\n",
      "Epoch 41 (train)0.2s: train loss = 0.13465 = (mf)0.13168 + (embed)0.00296\n",
      "Epoch 42 (train)0.2s: train loss = 0.14203 = (mf)0.13902 + (embed)0.00300\n",
      "Epoch 43 (train)0.2s: train loss = 0.14005 = (mf)0.13696 + (embed)0.00309\n",
      "Epoch 44 (train)0.2s: train loss = 0.13183 = (mf)0.12869 + (embed)0.00314\n",
      "Epoch 45 (train)0.2s + (eval)0.0s: train loss = 0.13431 = (mf)0.13110 + (embed)0.00320, recall = 0.16420, ndcg = 0.32808, precision = 0.26947, map = 0.09592\n",
      "Epoch 46 (train)0.2s: train loss = 0.12446 = (mf)0.12121 + (embed)0.00325\n",
      "Epoch 47 (train)0.2s: train loss = 0.12315 = (mf)0.11983 + (embed)0.00333\n",
      "Epoch 48 (train)0.2s: train loss = 0.12548 = (mf)0.12209 + (embed)0.00339\n",
      "Epoch 49 (train)0.2s: train loss = 0.12050 = (mf)0.11704 + (embed)0.00345\n",
      "Epoch 50 (train)0.2s + (eval)0.0s: train loss = 0.12255 = (mf)0.11902 + (embed)0.00353, recall = 0.17060, ndcg = 0.33470, precision = 0.27158, map = 0.09923\n",
      "Took 10.429500500000001 seconds for training.\n"
     ]
    }
   ],
   "source": [
    "with Timer() as train_time:\n",
    "    model.fit()\n",
    "\n",
    "print(\"Took {} seconds for training.\".format(train_time.interval))"
   ]
  },
  {
   "attachments": {},
   "cell_type": "markdown",
   "metadata": {},
   "source": [
    "### 2.5 Recommendation and Evaluation"
   ]
  },
  {
   "attachments": {},
   "cell_type": "markdown",
   "metadata": {},
   "source": [
    "Recommendation and evaluation have been performed on the specified test set during training. After training, we can also use the model to perform recommendation and evalution on other data. Here we still use `test` as test data, but `test` can be replaced by other data with similar data structure."
   ]
  },
  {
   "attachments": {},
   "cell_type": "markdown",
   "metadata": {},
   "source": [
    "#### 2.5.1 Recommendation\n",
    "\n",
    "We can call `recommend_k_items` to recommend k items for each user passed in this function. We set `remove_seen=True` to remove the items already seen by the user. The function returns a dataframe, containing each user and top k items recommended to them and the corresponding ranking scores."
   ]
  },
  {
   "cell_type": "code",
   "execution_count": 12,
   "metadata": {},
   "outputs": [
    {
     "data": {
      "text/html": [
       "<div>\n",
       "<style scoped>\n",
       "    .dataframe tbody tr th:only-of-type {\n",
       "        vertical-align: middle;\n",
       "    }\n",
       "\n",
       "    .dataframe tbody tr th {\n",
       "        vertical-align: top;\n",
       "    }\n",
       "\n",
       "    .dataframe thead th {\n",
       "        text-align: right;\n",
       "    }\n",
       "</style>\n",
       "<table border=\"1\" class=\"dataframe\">\n",
       "  <thead>\n",
       "    <tr style=\"text-align: right;\">\n",
       "      <th></th>\n",
       "      <th>userID</th>\n",
       "      <th>itemID</th>\n",
       "      <th>prediction</th>\n",
       "    </tr>\n",
       "  </thead>\n",
       "  <tbody>\n",
       "    <tr>\n",
       "      <th>0</th>\n",
       "      <td>293</td>\n",
       "      <td>186</td>\n",
       "      <td>6.825802</td>\n",
       "    </tr>\n",
       "    <tr>\n",
       "      <th>1</th>\n",
       "      <td>293</td>\n",
       "      <td>385</td>\n",
       "      <td>6.763488</td>\n",
       "    </tr>\n",
       "    <tr>\n",
       "      <th>2</th>\n",
       "      <td>293</td>\n",
       "      <td>89</td>\n",
       "      <td>6.660824</td>\n",
       "    </tr>\n",
       "    <tr>\n",
       "      <th>3</th>\n",
       "      <td>293</td>\n",
       "      <td>64</td>\n",
       "      <td>6.643375</td>\n",
       "    </tr>\n",
       "    <tr>\n",
       "      <th>4</th>\n",
       "      <td>293</td>\n",
       "      <td>12</td>\n",
       "      <td>6.426495</td>\n",
       "    </tr>\n",
       "  </tbody>\n",
       "</table>\n",
       "</div>"
      ],
      "text/plain": [
       "   userID  itemID  prediction\n",
       "0     293     186    6.825802\n",
       "1     293     385    6.763488\n",
       "2     293      89    6.660824\n",
       "3     293      64    6.643375\n",
       "4     293      12    6.426495"
      ]
     },
     "execution_count": 12,
     "metadata": {},
     "output_type": "execute_result"
    }
   ],
   "source": [
    "topk_scores = model.recommend_k_items(test, top_k=TOP_K, remove_seen=True)\n",
    "topk_scores.head()"
   ]
  },
  {
   "attachments": {},
   "cell_type": "markdown",
   "metadata": {},
   "source": [
    "#### 2.5.2 Evaluation\n",
    "\n",
    "With `topk_scores` predicted by the model, we can evaluate how LightGCN performs on this test set."
   ]
  },
  {
   "cell_type": "code",
   "execution_count": 13,
   "metadata": {},
   "outputs": [
    {
     "name": "stdout",
     "output_type": "stream",
     "text": [
      "{\n",
      "    \"MAP\": 0.09923318545049116,\n",
      "    \"NDCG\": 0.3346981388531298,\n",
      "    \"Precision\": 0.2715789473684211,\n",
      "    \"Recall\": 0.17059628342104388,\n",
      "    \"User Serendipity\": 0.6721069444636192,\n",
      "    \"Coverage\": 0.23121387283236994\n",
      "}\n"
     ]
    }
   ],
   "source": [
    "import json\n",
    "\n",
    "eval_map = map_at_k(test, topk_scores, k=TOP_K)\n",
    "eval_ndcg = ndcg_at_k(test, topk_scores, k=TOP_K)\n",
    "eval_precision = precision_at_k(test, topk_scores, k=TOP_K)\n",
    "eval_recall = recall_at_k(test, topk_scores, k=TOP_K)\n",
    "eval_serendipity = serendipity(train, topk_scores)\n",
    "eval_coverage = catalog_coverage(train, topk_scores)\n",
    "\n",
    "metric_results = {\n",
    "    'MAP': eval_map,\n",
    "    'NDCG': eval_ndcg,\n",
    "    'Precision': eval_precision,\n",
    "    'Recall': eval_recall,\n",
    "    'User Serendipity': eval_serendipity,\n",
    "    'Coverage': eval_coverage\n",
    "}\n",
    "\n",
    "print(json.dumps(metric_results, indent=4))\n",
    "with open(\"./output/exp-2/metric_results.txt\", \"w\") as fp:\n",
    "    json.dump(metric_results, fp, indent=4)"
   ]
  },
  {
   "cell_type": "code",
   "execution_count": 14,
   "metadata": {},
   "outputs": [],
   "source": [
    "# load clusters if not previously loaded\n",
    "# clusters = pd.read_csv('./output/exp-2/group_clusters.csv', usecols=['user_id', 'group'])\n",
    "\n",
    "# get per-user serendipity score\n",
    "eval_serendipity = user_serendipity(train, topk_scores)\n",
    "\n",
    "# calculate per-cluster serendipity score\n",
    "eval_serendipity_clulsters = clusters.merge(eval_serendipity, left_on='user_id', right_on='userID').drop(columns=['userID'])\n",
    "cluster_serendipity = eval_serendipity_clulsters.groupby('group').mean()\n",
    "cluster_serendipity[['user_serendipity']].to_csv('./output/exp-2/cluster_serendipity.csv')"
   ]
  },
  {
   "cell_type": "code",
   "execution_count": 15,
   "metadata": {},
   "outputs": [],
   "source": [
    "eval_serendipity.to_csv('./output/exp-2/user_serendipity.csv', index=False)"
   ]
  },
  {
   "cell_type": "code",
   "execution_count": 16,
   "metadata": {},
   "outputs": [
    {
     "ename": "AttributeError",
     "evalue": "'DataFrame' object has no attribute 'group'",
     "output_type": "error",
     "traceback": [
      "\u001b[1;31m---------------------------------------------------------------------------\u001b[0m",
      "\u001b[1;31mAttributeError\u001b[0m                            Traceback (most recent call last)",
      "\u001b[1;32m~\\AppData\\Local\\Temp\\ipykernel_11280\\874405426.py\u001b[0m in \u001b[0;36m?\u001b[1;34m()\u001b[0m\n\u001b[1;32m----> 1\u001b[1;33m \u001b[0mset\u001b[0m\u001b[1;33m(\u001b[0m\u001b[0mdf\u001b[0m\u001b[1;33m.\u001b[0m\u001b[0mgroup\u001b[0m\u001b[1;33m.\u001b[0m\u001b[0mto_list\u001b[0m\u001b[1;33m(\u001b[0m\u001b[1;33m)\u001b[0m\u001b[1;33m)\u001b[0m\u001b[1;33m\u001b[0m\u001b[1;33m\u001b[0m\u001b[0m\n\u001b[0m",
      "\u001b[1;32md:\\miniconda3\\envs\\serendipity\\lib\\site-packages\\pandas\\core\\generic.py\u001b[0m in \u001b[0;36m?\u001b[1;34m(self, name)\u001b[0m\n\u001b[0;32m   5898\u001b[0m             \u001b[1;32mand\u001b[0m \u001b[0mname\u001b[0m \u001b[1;32mnot\u001b[0m \u001b[1;32min\u001b[0m \u001b[0mself\u001b[0m\u001b[1;33m.\u001b[0m\u001b[0m_accessors\u001b[0m\u001b[1;33m\u001b[0m\u001b[1;33m\u001b[0m\u001b[0m\n\u001b[0;32m   5899\u001b[0m             \u001b[1;32mand\u001b[0m \u001b[0mself\u001b[0m\u001b[1;33m.\u001b[0m\u001b[0m_info_axis\u001b[0m\u001b[1;33m.\u001b[0m\u001b[0m_can_hold_identifiers_and_holds_name\u001b[0m\u001b[1;33m(\u001b[0m\u001b[0mname\u001b[0m\u001b[1;33m)\u001b[0m\u001b[1;33m\u001b[0m\u001b[1;33m\u001b[0m\u001b[0m\n\u001b[0;32m   5900\u001b[0m         ):\n\u001b[0;32m   5901\u001b[0m             \u001b[1;32mreturn\u001b[0m \u001b[0mself\u001b[0m\u001b[1;33m[\u001b[0m\u001b[0mname\u001b[0m\u001b[1;33m]\u001b[0m\u001b[1;33m\u001b[0m\u001b[1;33m\u001b[0m\u001b[0m\n\u001b[1;32m-> 5902\u001b[1;33m         \u001b[1;32mreturn\u001b[0m \u001b[0mobject\u001b[0m\u001b[1;33m.\u001b[0m\u001b[0m__getattribute__\u001b[0m\u001b[1;33m(\u001b[0m\u001b[0mself\u001b[0m\u001b[1;33m,\u001b[0m \u001b[0mname\u001b[0m\u001b[1;33m)\u001b[0m\u001b[1;33m\u001b[0m\u001b[1;33m\u001b[0m\u001b[0m\n\u001b[0m",
      "\u001b[1;31mAttributeError\u001b[0m: 'DataFrame' object has no attribute 'group'"
     ]
    }
   ],
   "source": [
    "set(df.group.to_list())"
   ]
  },
  {
   "attachments": {},
   "cell_type": "markdown",
   "metadata": {},
   "source": [
    "### 2.6 Infer embeddings\n",
    "\n",
    "With `infer_embedding` method of LightGCN model, we can export the embeddings of users and items in the training set to CSV files for future use."
   ]
  },
  {
   "cell_type": "code",
   "execution_count": null,
   "metadata": {},
   "outputs": [],
   "source": [
    "model.infer_embedding(user_file, item_file)"
   ]
  },
  {
   "attachments": {},
   "cell_type": "markdown",
   "metadata": {},
   "source": [
    "## 3. Compare LightGCN with SAR and NCF\n",
    "\n",
    "Here there are the performances of LightGCN compared to [SAR](../00_quick_start/sar_movielens.ipynb) and [NCF](../00_quick_start/ncf_movielens.ipynb) on MovieLens dataset of 100k and 1m. The method of data loading and splitting is the same as that described above and the GPU used was a GeForce GTX 1080Ti.\n",
    "\n",
    "Settings common to the three models: `epochs=15, seed=42`.\n",
    "\n",
    "Settings for LightGCN: `embed_size=64, n_layers=3, batch_size=1024, decay=0.0001, learning_rate=0.015 `.\n",
    "\n",
    "Settings for SAR: `similarity_type=\"jaccard\", time_decay_coefficient=30, time_now=None, timedecay_formula=True`.\n",
    "\n",
    "Settings for NCF: `n_factors=4, layer_sizes=[16, 8, 4], batch_size=1024, learning_rate=0.001`.\n",
    "\n",
    "| Data Size | Model    | Training time | Recommending time | MAP@10   | nDCG@10  | Precision@10 | Recall@10 |\n",
    "| --------- | -------- | ------------- | ----------------- | -------- | -------- | ------------ | --------- |\n",
    "| 100k      | LightGCN | 27.8865       | 0.6445            | 0.129236 | 0.436297 | 0.381866     | 0.205816  |\n",
    "| 100k      | SAR      | 0.4895        | 0.1144            | 0.110591 | 0.382461 | 0.330753     | 0.176385  |\n",
    "| 100k      | NCF      | 116.3174      | 7.7660            | 0.105725 | 0.387603 | 0.342100     | 0.174580  |\n",
    "| 1m        | LightGCN | 396.7298      | 1.4343            | 0.075012 | 0.377501 | 0.345679     | 0.128096  |\n",
    "| 1m        | SAR      | 4.5593        | 2.8357            | 0.060579 | 0.299245 | 0.270116     | 0.104350  |\n",
    "| 1m        | NCF      | 1601.5846     | 85.4567           | 0.062821 | 0.348770 | 0.320613     | 0.108121  |\n",
    "\n",
    "From the above results, we can see that LightGCN performs better than the other two models."
   ]
  },
  {
   "attachments": {},
   "cell_type": "markdown",
   "metadata": {},
   "source": [
    "### References: \n",
    "1. Xiangnan He, Kuan Deng, Xiang Wang, Yan Li, Yongdong Zhang & Meng Wang, LightGCN: Simplifying and Powering Graph Convolution Network for Recommendation, 2020, https://arxiv.org/abs/2002.02126\n",
    "2. LightGCN implementation [TensorFlow]: https://github.com/kuandeng/lightgcn\n",
    "3. Thomas N. Kipf and Max Welling, Semi-Supervised Classification with Graph Convolutional Networks, ICLR, 2017, https://arxiv.org/abs/1609.02907\n",
    "4. Xiang Wang, Xiangnan He, Meng Wang, Fuli Feng, and Tat-Seng Chua, Neural Graph Collaborative Filtering, SIGIR, 2019, https://arxiv.org/abs/1905.08108\n",
    "5. Y. Koren, R. Bell and C. Volinsky, \"Matrix Factorization Techniques for Recommender Systems\", in Computer, vol. 42, no. 8, pp. 30-37, Aug. 2009, doi: 10.1109/MC.2009.263.  url: https://datajobs.com/data-science-repo/Recommender-Systems-%5BNetflix%5D.pdf"
   ]
  }
 ],
 "metadata": {
  "celltoolbar": "Tags",
  "interpreter": {
   "hash": "3a9a0c422ff9f08d62211b9648017c63b0a26d2c935edc37ebb8453675d13bb5"
  },
  "kernelspec": {
   "display_name": "Python 3.7.11 64-bit ('tf2': conda)",
   "name": "python3"
  },
  "language_info": {
   "codemirror_mode": {
    "name": "ipython",
    "version": 3
   },
   "file_extension": ".py",
   "mimetype": "text/x-python",
   "name": "python",
   "nbconvert_exporter": "python",
   "pygments_lexer": "ipython3",
   "version": "3.9.16"
  }
 },
 "nbformat": 4,
 "nbformat_minor": 2
}
