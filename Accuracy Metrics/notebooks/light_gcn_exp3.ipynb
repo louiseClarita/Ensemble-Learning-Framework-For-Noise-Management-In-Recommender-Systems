{
 "cells": [
  {
   "cell_type": "markdown",
   "metadata": {},
   "source": [
    "<i>Copyright (c) Microsoft Corporation. All rights reserved.</i>\n",
    "\n",
    "<i>Licensed under the MIT License.</i>\n",
    "\n",
    "<i>This notebook has been taken from Microsoft's recommender system library: [Source](https://github.com/microsoft/recommenders/blob/main/examples/02_model_collaborative_filtering/lightgcn_deep_dive.ipynb). It has been modified to fit the context of our study. The modifications include the addition of new evaluation methods, the ability to add new datasets, and cluster validation process.</i>"
   ]
  },
  {
   "cell_type": "markdown",
   "metadata": {},
   "source": [
    "# LightGCN - simplified GCN model for recommendation\n",
    "\n",
    "This notebook serves as an introduction to LightGCN [1], which is an simple, linear and neat Graph Convolution Network (GCN) [3] model for recommendation."
   ]
  },
  {
   "cell_type": "markdown",
   "metadata": {},
   "source": [
    "## 0 Global Settings and Imports"
   ]
  },
  {
   "cell_type": "code",
   "execution_count": 1,
   "metadata": {},
   "outputs": [
    {
     "name": "stdout",
     "output_type": "stream",
     "text": [
      "System version: 3.10.0 (tags/v3.10.0:b494f59, Oct  4 2021, 19:00:18) [MSC v.1929 64 bit (AMD64)]\n",
      "Pandas version: 2.2.2\n",
      "Tensorflow version: 2.17.0\n"
     ]
    }
   ],
   "source": [
    "from recommenders.datasets.python_splitters import python_stratified_split\n",
    "import sys\n",
    "import os\n",
    "import codecs\n",
    "import scrapbook as sb\n",
    "import pandas as pd\n",
    "import numpy as np\n",
    "import tensorflow as tf\n",
    "tf.get_logger().setLevel('ERROR') # only show error messages\n",
    "\n",
    "\n",
    "from recommenders.utils.timer import Timer\n",
    "from recommenders.models.deeprec.models.graphrec.lightgcn import LightGCN\n",
    "from recommenders.models.deeprec.DataModel.ImplicitCF import ImplicitCF\n",
    "#from recommenders.datasets import movielens\n",
    "from recommenders.datasets.python_splitters import python_stratified_split\n",
    "from recommenders.utils.constants import SEED as DEFAULT_SEED\n",
    "from recommenders.models.deeprec.deeprec_utils import prepare_hparams\n",
    "from recommenders.evaluation.python_evaluation import (\n",
    "    map_at_k,\n",
    "    ndcg_at_k,\n",
    "    precision_at_k,\n",
    "    recall_at_k,\n",
    "    serendipity,\n",
    "    user_serendipity,\n",
    "    user_item_serendipity,\n",
    "    catalog_coverage\n",
    ")\n",
    "\n",
    "print(\"System version: {}\".format(sys.version))\n",
    "print(\"Pandas version: {}\".format(pd.__version__))\n",
    "print(\"Tensorflow version: {}\".format(tf.__version__))\n",
    "#os.chdir('../')"
   ]
  },
  {
   "cell_type": "code",
   "execution_count": 2,
   "metadata": {},
   "outputs": [
    {
     "data": {
      "text/plain": [
       "'C:\\\\Users\\\\clari\\\\Desktop\\\\M2 - Thesis\\\\Research\\\\Dr Jacques Bou Abdo\\\\Recommender System\\\\5 - Ensemble Learning Model\\\\Accuracy Metrics\\\\serendipity-main\\\\notebooks'"
      ]
     },
     "execution_count": 2,
     "metadata": {},
     "output_type": "execute_result"
    }
   ],
   "source": [
    "os.getcwd()"
   ]
  },
  {
   "cell_type": "code",
   "execution_count": 3,
   "metadata": {},
   "outputs": [],
   "source": [
    "DEFAULT_SEED = None"
   ]
  },
  {
   "cell_type": "code",
   "execution_count": 4,
   "metadata": {
    "tags": [
     "parameters"
    ]
   },
   "outputs": [],
   "source": [
    "# top k items to recommend\n",
    "TOP_K = 10\n",
    "\n",
    "# Select MovieLens data size: 100k, 1m, 10m, or 20m\n",
    "#MOVIELENS_DATA_SIZE = 'framework-ml-25m-subset'\n",
    "MOVIELENS_DATA_SIZE = 'ml-25m-subset(3)-#4.1'\n",
    "OG_DT = 'ml-25m'\n",
    "# Model parameters\n",
    "EPOCHS = 20\n",
    "BATCH_SIZE = 1024\n",
    "\n",
    "SEED = DEFAULT_SEED  # Set None for non-deterministic results\n",
    "\n",
    "yaml_file = \"./models/lightgcn/config/lightgcn.yaml\"\n",
    "user_file = \"./models/lightgcn/output/tests/user_embeddings.csv\"\n",
    "item_file = \"./models/lightgcn/output/item_embeddings.csv\""
   ]
  },
  {
   "cell_type": "code",
   "execution_count": 5,
   "metadata": {},
   "outputs": [
    {
     "name": "stdout",
     "output_type": "stream",
     "text": [
      "True\n",
      "True\n",
      "True\n"
     ]
    }
   ],
   "source": [
    "\n",
    "yaml_file = os.path.join(os.getcwd(), \"..\" ,\"models\", \"lightgcn\", \"config\", \"lightgcn.yaml\")\n",
    "user_file = os.path.join(os.getcwd(), \"..\" ,\"models\",\"lightgcn\",\"output_CH\",MOVIELENS_DATA_SIZE,\"user_embedding_CH.csv\")\n",
    "item_file = os.path.join(os.getcwd(), \"..\" ,\"models\",\"lightgcn\",\"output_CH\",MOVIELENS_DATA_SIZE,\"item_embedding_CH.csv\")\n",
    "print(os.path.exists(yaml_file))\n",
    "print(os.path.exists(user_file))\n",
    "print(os.path.exists(item_file))\n",
    "\n"
   ]
  },
  {
   "cell_type": "code",
   "execution_count": 6,
   "metadata": {},
   "outputs": [],
   "source": [
    "from sklearn.model_selection import train_test_split\n",
    "\n",
    "ratio = 0.85\n",
    "#dataset = 'ml-5m-#1'\n",
    "dataset_name = MOVIELENS_DATA_SIZE\n",
    "dataset_path = os.path.join('datasets', dataset_name)\n",
    "\n",
    "#ratings_path = os.path.join(dataset_path, 'u.data')\n",
    "#ratings_file = codecs.open(ratings_path, 'r', 'UTF-8')\n",
    "#df = pd.read_csv(ratings_file, sep='\\t', names=('userID', 'itemID', 'rating', 'timestamp'))\n",
    "#dataset_name = 'ml-5m-#2'\n",
    "#dataset = '5m'\n",
    "dataset_path = os.path.join('datasets', dataset_name)\n",
    "output_path_exp1 = './output/exp-3/'\n",
    "#ratings_path = os.path.join(dataset_path, 'u.data')\n",
    "#ratings_path = os.path.join(dataset_path, '//clean//ratings.csv')\n",
    "#ratings_file = codecs.open(ratings_path, 'r', 'UTF-8')\n",
    "ratings_path = \"../datasets/\"+dataset_name+ \"/clean/ratings.csv\"\n",
    "\n",
    "\n",
    "\n",
    "#df = pd.read_csv(ratings_file, sep='\\t', names=('userID', 'itemID', 'rating', 'timestamp'))\n",
    "\n",
    "if MOVIELENS_DATA_SIZE == 'ml-25m-subset-nf-1-2-3-3.1-4':\n",
    "    cos = ['itemId',\t'userId', 'title',\t'rating']\n",
    "    df = pd.read_csv(ratings_path, usecols=cos).rename(columns = {'userId':'userID', 'itemId':'itemID'})\n",
    "else:\n",
    "    df = pd.read_csv(ratings_path).rename(columns = {'userId':'userID', 'movieId':'itemID'}).copy()\n",
    "\n",
    "if '#2' in dataset_name:\n",
    "     df = df[df['isNoisy'] == \"[0.]\"]\n",
    "elif 'nf-1' in dataset_name:\n",
    "    df =  df[(df['1&2&3&4 = 0'] == 0) & (df['1&2&3&4 = 1'] == 0)]\n",
    "elif not 'framework' in dataset_name:\n",
    "    df = df[df['isNoisy'] == 0]    \n",
    "len(df['userID'].unique())\n",
    "if 'itemID' not in df.columns:\n",
    "    df = df.rename(columns = {'itemId':'itemID'})"
   ]
  },
  {
   "cell_type": "code",
   "execution_count": 7,
   "metadata": {},
   "outputs": [
    {
     "data": {
      "text/plain": [
       "Index(['userID', 'itemID', 'rating', 'timestamp', 'genres_bin', 'isNoisy'], dtype='object')"
      ]
     },
     "execution_count": 7,
     "metadata": {},
     "output_type": "execute_result"
    }
   ],
   "source": [
    "df.columns"
   ]
  },
  {
   "cell_type": "code",
   "execution_count": 8,
   "metadata": {},
   "outputs": [],
   "source": [
    "\n",
    "# Normal train/test split (random portion) \n",
    "train, test = python_stratified_split(df, ratio=ratio)\n",
    "\n",
    "#train2, test2 = train_test_split(df, test_size=(1 - ratio), random_state=42)\n",
    "train.to_csv('../output/exp-3/'+dataset_name+'/train.csv')\n",
    "test.to_csv('../output/exp-3/'+dataset_name+'/test.csv')\n",
    "train_df = pd.read_csv('../output/exp-3/'+dataset_name+'/train.csv')\n",
    "test_df = pd.read_csv('../output/exp-3/'+dataset_name+'/test.csv')"
   ]
  },
  {
   "cell_type": "code",
   "execution_count": 9,
   "metadata": {},
   "outputs": [
    {
     "data": {
      "text/html": [
       "<div>\n",
       "<style scoped>\n",
       "    .dataframe tbody tr th:only-of-type {\n",
       "        vertical-align: middle;\n",
       "    }\n",
       "\n",
       "    .dataframe tbody tr th {\n",
       "        vertical-align: top;\n",
       "    }\n",
       "\n",
       "    .dataframe thead th {\n",
       "        text-align: right;\n",
       "    }\n",
       "</style>\n",
       "<table border=\"1\" class=\"dataframe\">\n",
       "  <thead>\n",
       "    <tr style=\"text-align: right;\">\n",
       "      <th></th>\n",
       "      <th>userID</th>\n",
       "      <th>itemID</th>\n",
       "      <th>rating</th>\n",
       "      <th>timestamp</th>\n",
       "      <th>genres_bin</th>\n",
       "      <th>isNoisy</th>\n",
       "      <th>random</th>\n",
       "    </tr>\n",
       "  </thead>\n",
       "  <tbody>\n",
       "    <tr>\n",
       "      <th>0</th>\n",
       "      <td>107576</td>\n",
       "      <td>3253</td>\n",
       "      <td>4.5</td>\n",
       "      <td>1544828239</td>\n",
       "      <td>69793636673</td>\n",
       "      <td>0</td>\n",
       "      <td>0.374540</td>\n",
       "    </tr>\n",
       "    <tr>\n",
       "      <th>1</th>\n",
       "      <td>116343</td>\n",
       "      <td>741</td>\n",
       "      <td>3.0</td>\n",
       "      <td>1106870586</td>\n",
       "      <td>221463938504</td>\n",
       "      <td>0</td>\n",
       "      <td>0.950714</td>\n",
       "    </tr>\n",
       "    <tr>\n",
       "      <th>2</th>\n",
       "      <td>87441</td>\n",
       "      <td>18</td>\n",
       "      <td>4.0</td>\n",
       "      <td>1496483617</td>\n",
       "      <td>69793636673</td>\n",
       "      <td>0</td>\n",
       "      <td>0.731994</td>\n",
       "    </tr>\n",
       "    <tr>\n",
       "      <th>3</th>\n",
       "      <td>92046</td>\n",
       "      <td>4378</td>\n",
       "      <td>4.0</td>\n",
       "      <td>1016643855</td>\n",
       "      <td>216359445792</td>\n",
       "      <td>0</td>\n",
       "      <td>0.598658</td>\n",
       "    </tr>\n",
       "    <tr>\n",
       "      <th>4</th>\n",
       "      <td>137299</td>\n",
       "      <td>94896</td>\n",
       "      <td>4.0</td>\n",
       "      <td>1489231026</td>\n",
       "      <td>216359462241</td>\n",
       "      <td>0</td>\n",
       "      <td>0.156019</td>\n",
       "    </tr>\n",
       "    <tr>\n",
       "      <th>...</th>\n",
       "      <td>...</td>\n",
       "      <td>...</td>\n",
       "      <td>...</td>\n",
       "      <td>...</td>\n",
       "      <td>...</td>\n",
       "      <td>...</td>\n",
       "      <td>...</td>\n",
       "    </tr>\n",
       "    <tr>\n",
       "      <th>531753</th>\n",
       "      <td>111945</td>\n",
       "      <td>2786</td>\n",
       "      <td>3.0</td>\n",
       "      <td>980566705</td>\n",
       "      <td>69793636673</td>\n",
       "      <td>0</td>\n",
       "      <td>0.198208</td>\n",
       "    </tr>\n",
       "    <tr>\n",
       "      <th>531754</th>\n",
       "      <td>123473</td>\n",
       "      <td>10</td>\n",
       "      <td>3.5</td>\n",
       "      <td>1165210768</td>\n",
       "      <td>216898399982</td>\n",
       "      <td>0</td>\n",
       "      <td>0.823946</td>\n",
       "    </tr>\n",
       "    <tr>\n",
       "      <th>531755</th>\n",
       "      <td>75587</td>\n",
       "      <td>45499</td>\n",
       "      <td>4.0</td>\n",
       "      <td>1271238048</td>\n",
       "      <td>221465980648</td>\n",
       "      <td>0</td>\n",
       "      <td>0.033212</td>\n",
       "    </tr>\n",
       "    <tr>\n",
       "      <th>531756</th>\n",
       "      <td>82097</td>\n",
       "      <td>1265</td>\n",
       "      <td>4.0</td>\n",
       "      <td>1465691808</td>\n",
       "      <td>216099447257</td>\n",
       "      <td>0</td>\n",
       "      <td>0.460556</td>\n",
       "    </tr>\n",
       "    <tr>\n",
       "      <th>531757</th>\n",
       "      <td>19269</td>\n",
       "      <td>1921</td>\n",
       "      <td>3.5</td>\n",
       "      <td>1418153669</td>\n",
       "      <td>219855433504</td>\n",
       "      <td>0</td>\n",
       "      <td>0.883704</td>\n",
       "    </tr>\n",
       "  </tbody>\n",
       "</table>\n",
       "<p>501991 rows × 7 columns</p>\n",
       "</div>"
      ],
      "text/plain": [
       "        userID  itemID  rating   timestamp    genres_bin  isNoisy    random\n",
       "0       107576    3253     4.5  1544828239   69793636673        0  0.374540\n",
       "1       116343     741     3.0  1106870586  221463938504        0  0.950714\n",
       "2        87441      18     4.0  1496483617   69793636673        0  0.731994\n",
       "3        92046    4378     4.0  1016643855  216359445792        0  0.598658\n",
       "4       137299   94896     4.0  1489231026  216359462241        0  0.156019\n",
       "...        ...     ...     ...         ...           ...      ...       ...\n",
       "531753  111945    2786     3.0   980566705   69793636673        0  0.198208\n",
       "531754  123473      10     3.5  1165210768  216898399982        0  0.823946\n",
       "531755   75587   45499     4.0  1271238048  221465980648        0  0.033212\n",
       "531756   82097    1265     4.0  1465691808  216099447257        0  0.460556\n",
       "531757   19269    1921     3.5  1418153669  219855433504        0  0.883704\n",
       "\n",
       "[501991 rows x 7 columns]"
      ]
     },
     "execution_count": 9,
     "metadata": {},
     "output_type": "execute_result"
    }
   ],
   "source": [
    "df"
   ]
  },
  {
   "cell_type": "code",
   "execution_count": 10,
   "metadata": {},
   "outputs": [
    {
     "name": "stdout",
     "output_type": "stream",
     "text": [
      "Total groups: 20\n"
     ]
    }
   ],
   "source": [
    "clusters = pd.read_csv('../output/exp-3/'+dataset_name+'/means_output_clusters_CH.csv', usecols=['userId', 'cluster_shc', 'group_clusters'])\n",
    "train_clusters = train_df.reset_index().merge(clusters, left_on='userID', right_on='userId').drop(columns=['userId'])\n",
    "total_groups = set(clusters.group_clusters.to_list())\n",
    "print(\"Total groups:\", len(total_groups))"
   ]
  },
  {
   "cell_type": "code",
   "execution_count": 11,
   "metadata": {},
   "outputs": [
    {
     "data": {
      "text/html": [
       "<div>\n",
       "<style scoped>\n",
       "    .dataframe tbody tr th:only-of-type {\n",
       "        vertical-align: middle;\n",
       "    }\n",
       "\n",
       "    .dataframe tbody tr th {\n",
       "        vertical-align: top;\n",
       "    }\n",
       "\n",
       "    .dataframe thead th {\n",
       "        text-align: right;\n",
       "    }\n",
       "</style>\n",
       "<table border=\"1\" class=\"dataframe\">\n",
       "  <thead>\n",
       "    <tr style=\"text-align: right;\">\n",
       "      <th></th>\n",
       "      <th>index</th>\n",
       "      <th>Unnamed: 0</th>\n",
       "      <th>userID</th>\n",
       "      <th>itemID</th>\n",
       "      <th>rating</th>\n",
       "      <th>timestamp</th>\n",
       "      <th>genres_bin</th>\n",
       "      <th>isNoisy</th>\n",
       "      <th>cluster_shc</th>\n",
       "      <th>group_clusters</th>\n",
       "    </tr>\n",
       "  </thead>\n",
       "  <tbody>\n",
       "    <tr>\n",
       "      <th>0</th>\n",
       "      <td>0</td>\n",
       "      <td>455334</td>\n",
       "      <td>107</td>\n",
       "      <td>2579</td>\n",
       "      <td>3.0</td>\n",
       "      <td>1120911156</td>\n",
       "      <td>215858163513</td>\n",
       "      <td>0</td>\n",
       "      <td>0.666695</td>\n",
       "      <td>16</td>\n",
       "    </tr>\n",
       "    <tr>\n",
       "      <th>1</th>\n",
       "      <td>1</td>\n",
       "      <td>53955</td>\n",
       "      <td>107</td>\n",
       "      <td>8970</td>\n",
       "      <td>5.0</td>\n",
       "      <td>1112452270</td>\n",
       "      <td>69256806688</td>\n",
       "      <td>0</td>\n",
       "      <td>0.666695</td>\n",
       "      <td>16</td>\n",
       "    </tr>\n",
       "    <tr>\n",
       "      <th>2</th>\n",
       "      <td>2</td>\n",
       "      <td>149115</td>\n",
       "      <td>107</td>\n",
       "      <td>337</td>\n",
       "      <td>3.5</td>\n",
       "      <td>1116042439</td>\n",
       "      <td>69256806688</td>\n",
       "      <td>0</td>\n",
       "      <td>0.666695</td>\n",
       "      <td>16</td>\n",
       "    </tr>\n",
       "    <tr>\n",
       "      <th>3</th>\n",
       "      <td>3</td>\n",
       "      <td>379717</td>\n",
       "      <td>107</td>\n",
       "      <td>42004</td>\n",
       "      <td>3.5</td>\n",
       "      <td>1162221330</td>\n",
       "      <td>218506945007</td>\n",
       "      <td>0</td>\n",
       "      <td>0.666695</td>\n",
       "      <td>16</td>\n",
       "    </tr>\n",
       "    <tr>\n",
       "      <th>4</th>\n",
       "      <td>4</td>\n",
       "      <td>183376</td>\n",
       "      <td>107</td>\n",
       "      <td>2677</td>\n",
       "      <td>4.0</td>\n",
       "      <td>1146426915</td>\n",
       "      <td>215319291901</td>\n",
       "      <td>0</td>\n",
       "      <td>0.666695</td>\n",
       "      <td>16</td>\n",
       "    </tr>\n",
       "    <tr>\n",
       "      <th>...</th>\n",
       "      <td>...</td>\n",
       "      <td>...</td>\n",
       "      <td>...</td>\n",
       "      <td>...</td>\n",
       "      <td>...</td>\n",
       "      <td>...</td>\n",
       "      <td>...</td>\n",
       "      <td>...</td>\n",
       "      <td>...</td>\n",
       "      <td>...</td>\n",
       "    </tr>\n",
       "    <tr>\n",
       "      <th>426680</th>\n",
       "      <td>426680</td>\n",
       "      <td>229407</td>\n",
       "      <td>162488</td>\n",
       "      <td>2021</td>\n",
       "      <td>5.0</td>\n",
       "      <td>1202824734</td>\n",
       "      <td>221463897262</td>\n",
       "      <td>0</td>\n",
       "      <td>0.675700</td>\n",
       "      <td>9</td>\n",
       "    </tr>\n",
       "    <tr>\n",
       "      <th>426681</th>\n",
       "      <td>426681</td>\n",
       "      <td>234578</td>\n",
       "      <td>162488</td>\n",
       "      <td>7076</td>\n",
       "      <td>4.5</td>\n",
       "      <td>1202823943</td>\n",
       "      <td>218509062120</td>\n",
       "      <td>0</td>\n",
       "      <td>0.675700</td>\n",
       "      <td>9</td>\n",
       "    </tr>\n",
       "    <tr>\n",
       "      <th>426682</th>\n",
       "      <td>426682</td>\n",
       "      <td>464699</td>\n",
       "      <td>162488</td>\n",
       "      <td>592</td>\n",
       "      <td>5.0</td>\n",
       "      <td>1202822963</td>\n",
       "      <td>217972125672</td>\n",
       "      <td>0</td>\n",
       "      <td>0.675700</td>\n",
       "      <td>9</td>\n",
       "    </tr>\n",
       "    <tr>\n",
       "      <th>426683</th>\n",
       "      <td>426683</td>\n",
       "      <td>279556</td>\n",
       "      <td>162488</td>\n",
       "      <td>1089</td>\n",
       "      <td>5.0</td>\n",
       "      <td>1202822376</td>\n",
       "      <td>215858163513</td>\n",
       "      <td>0</td>\n",
       "      <td>0.675700</td>\n",
       "      <td>9</td>\n",
       "    </tr>\n",
       "    <tr>\n",
       "      <th>426684</th>\n",
       "      <td>426684</td>\n",
       "      <td>293903</td>\n",
       "      <td>162488</td>\n",
       "      <td>5418</td>\n",
       "      <td>5.0</td>\n",
       "      <td>1202822677</td>\n",
       "      <td>216931938041</td>\n",
       "      <td>0</td>\n",
       "      <td>0.675700</td>\n",
       "      <td>9</td>\n",
       "    </tr>\n",
       "  </tbody>\n",
       "</table>\n",
       "<p>426685 rows × 10 columns</p>\n",
       "</div>"
      ],
      "text/plain": [
       "         index  Unnamed: 0  userID  itemID  rating   timestamp    genres_bin  \\\n",
       "0            0      455334     107    2579     3.0  1120911156  215858163513   \n",
       "1            1       53955     107    8970     5.0  1112452270   69256806688   \n",
       "2            2      149115     107     337     3.5  1116042439   69256806688   \n",
       "3            3      379717     107   42004     3.5  1162221330  218506945007   \n",
       "4            4      183376     107    2677     4.0  1146426915  215319291901   \n",
       "...        ...         ...     ...     ...     ...         ...           ...   \n",
       "426680  426680      229407  162488    2021     5.0  1202824734  221463897262   \n",
       "426681  426681      234578  162488    7076     4.5  1202823943  218509062120   \n",
       "426682  426682      464699  162488     592     5.0  1202822963  217972125672   \n",
       "426683  426683      279556  162488    1089     5.0  1202822376  215858163513   \n",
       "426684  426684      293903  162488    5418     5.0  1202822677  216931938041   \n",
       "\n",
       "        isNoisy  cluster_shc  group_clusters  \n",
       "0             0     0.666695              16  \n",
       "1             0     0.666695              16  \n",
       "2             0     0.666695              16  \n",
       "3             0     0.666695              16  \n",
       "4             0     0.666695              16  \n",
       "...         ...          ...             ...  \n",
       "426680        0     0.675700               9  \n",
       "426681        0     0.675700               9  \n",
       "426682        0     0.675700               9  \n",
       "426683        0     0.675700               9  \n",
       "426684        0     0.675700               9  \n",
       "\n",
       "[426685 rows x 10 columns]"
      ]
     },
     "execution_count": 11,
     "metadata": {},
     "output_type": "execute_result"
    }
   ],
   "source": [
    "train_clusters"
   ]
  },
  {
   "cell_type": "code",
   "execution_count": 12,
   "metadata": {},
   "outputs": [],
   "source": [
    "# Target group cluster (we iterate over all of them in every run)\n",
    "target_group = 4\n",
    "\n",
    "# Train data\n",
    "#target_group_df = train_clusters[train_clusters['group_clusters'] == target_group]\n",
    "#train = target_group_df[['userID', 'itemID', 'rating', 'timestamp']]\n",
    "target_group_df = train_clusters\n",
    "if 'timestamp' not in target_group_df.columns:\n",
    "    rt = pd.read_csv( r\"C:\\Users\\clari\\Desktop\\M2 - Thesis\\Research\\Dr Jacques Bou Abdo\\Recommender System\\4 - Review\\dataset\\\\\"+OG_DT+\"\\\\Full Data set (Used with NF3 First)\\\\ratings.csv\"\n",
    ").rename(columns = {'userId':'userID', 'movieId':'itemID'})\n",
    "    target_group_df = target_group_df.merge(rt, on=['userID','itemID','rating'], how='left')\n",
    "train = target_group_df[['userID', 'itemID', 'rating', 'timestamp']]\n",
    "\n",
    "\n",
    "\n",
    "# Test data Choose only ratings that can be predicted\n",
    "users_in_train = list(set(train.userID.to_list()))\n",
    "test = test_df[test_df.userID.isin(users_in_train)]\n",
    "# This gave a memory error, but it seems its not actually used\n",
    "#test2 = test_df[test_df - test_df.userID.isin(users_in_train)]"
   ]
  },
  {
   "cell_type": "code",
   "execution_count": 13,
   "metadata": {},
   "outputs": [
    {
     "data": {
      "text/plain": [
       "5624"
      ]
     },
     "execution_count": 13,
     "metadata": {},
     "output_type": "execute_result"
    }
   ],
   "source": [
    "len(users_in_train)"
   ]
  },
  {
   "cell_type": "code",
   "execution_count": 14,
   "metadata": {},
   "outputs": [
    {
     "data": {
      "text/html": [
       "<div>\n",
       "<style scoped>\n",
       "    .dataframe tbody tr th:only-of-type {\n",
       "        vertical-align: middle;\n",
       "    }\n",
       "\n",
       "    .dataframe tbody tr th {\n",
       "        vertical-align: top;\n",
       "    }\n",
       "\n",
       "    .dataframe thead th {\n",
       "        text-align: right;\n",
       "    }\n",
       "</style>\n",
       "<table border=\"1\" class=\"dataframe\">\n",
       "  <thead>\n",
       "    <tr style=\"text-align: right;\">\n",
       "      <th></th>\n",
       "      <th>index</th>\n",
       "      <th>Unnamed: 0</th>\n",
       "      <th>userID</th>\n",
       "      <th>itemID</th>\n",
       "      <th>rating</th>\n",
       "      <th>timestamp</th>\n",
       "      <th>genres_bin</th>\n",
       "      <th>isNoisy</th>\n",
       "      <th>cluster_shc</th>\n",
       "      <th>group_clusters</th>\n",
       "    </tr>\n",
       "  </thead>\n",
       "  <tbody>\n",
       "    <tr>\n",
       "      <th>0</th>\n",
       "      <td>0</td>\n",
       "      <td>455334</td>\n",
       "      <td>107</td>\n",
       "      <td>2579</td>\n",
       "      <td>3.0</td>\n",
       "      <td>1120911156</td>\n",
       "      <td>215858163513</td>\n",
       "      <td>0</td>\n",
       "      <td>0.666695</td>\n",
       "      <td>16</td>\n",
       "    </tr>\n",
       "    <tr>\n",
       "      <th>1</th>\n",
       "      <td>1</td>\n",
       "      <td>53955</td>\n",
       "      <td>107</td>\n",
       "      <td>8970</td>\n",
       "      <td>5.0</td>\n",
       "      <td>1112452270</td>\n",
       "      <td>69256806688</td>\n",
       "      <td>0</td>\n",
       "      <td>0.666695</td>\n",
       "      <td>16</td>\n",
       "    </tr>\n",
       "    <tr>\n",
       "      <th>2</th>\n",
       "      <td>2</td>\n",
       "      <td>149115</td>\n",
       "      <td>107</td>\n",
       "      <td>337</td>\n",
       "      <td>3.5</td>\n",
       "      <td>1116042439</td>\n",
       "      <td>69256806688</td>\n",
       "      <td>0</td>\n",
       "      <td>0.666695</td>\n",
       "      <td>16</td>\n",
       "    </tr>\n",
       "    <tr>\n",
       "      <th>3</th>\n",
       "      <td>3</td>\n",
       "      <td>379717</td>\n",
       "      <td>107</td>\n",
       "      <td>42004</td>\n",
       "      <td>3.5</td>\n",
       "      <td>1162221330</td>\n",
       "      <td>218506945007</td>\n",
       "      <td>0</td>\n",
       "      <td>0.666695</td>\n",
       "      <td>16</td>\n",
       "    </tr>\n",
       "    <tr>\n",
       "      <th>4</th>\n",
       "      <td>4</td>\n",
       "      <td>183376</td>\n",
       "      <td>107</td>\n",
       "      <td>2677</td>\n",
       "      <td>4.0</td>\n",
       "      <td>1146426915</td>\n",
       "      <td>215319291901</td>\n",
       "      <td>0</td>\n",
       "      <td>0.666695</td>\n",
       "      <td>16</td>\n",
       "    </tr>\n",
       "    <tr>\n",
       "      <th>...</th>\n",
       "      <td>...</td>\n",
       "      <td>...</td>\n",
       "      <td>...</td>\n",
       "      <td>...</td>\n",
       "      <td>...</td>\n",
       "      <td>...</td>\n",
       "      <td>...</td>\n",
       "      <td>...</td>\n",
       "      <td>...</td>\n",
       "      <td>...</td>\n",
       "    </tr>\n",
       "    <tr>\n",
       "      <th>426680</th>\n",
       "      <td>426680</td>\n",
       "      <td>229407</td>\n",
       "      <td>162488</td>\n",
       "      <td>2021</td>\n",
       "      <td>5.0</td>\n",
       "      <td>1202824734</td>\n",
       "      <td>221463897262</td>\n",
       "      <td>0</td>\n",
       "      <td>0.675700</td>\n",
       "      <td>9</td>\n",
       "    </tr>\n",
       "    <tr>\n",
       "      <th>426681</th>\n",
       "      <td>426681</td>\n",
       "      <td>234578</td>\n",
       "      <td>162488</td>\n",
       "      <td>7076</td>\n",
       "      <td>4.5</td>\n",
       "      <td>1202823943</td>\n",
       "      <td>218509062120</td>\n",
       "      <td>0</td>\n",
       "      <td>0.675700</td>\n",
       "      <td>9</td>\n",
       "    </tr>\n",
       "    <tr>\n",
       "      <th>426682</th>\n",
       "      <td>426682</td>\n",
       "      <td>464699</td>\n",
       "      <td>162488</td>\n",
       "      <td>592</td>\n",
       "      <td>5.0</td>\n",
       "      <td>1202822963</td>\n",
       "      <td>217972125672</td>\n",
       "      <td>0</td>\n",
       "      <td>0.675700</td>\n",
       "      <td>9</td>\n",
       "    </tr>\n",
       "    <tr>\n",
       "      <th>426683</th>\n",
       "      <td>426683</td>\n",
       "      <td>279556</td>\n",
       "      <td>162488</td>\n",
       "      <td>1089</td>\n",
       "      <td>5.0</td>\n",
       "      <td>1202822376</td>\n",
       "      <td>215858163513</td>\n",
       "      <td>0</td>\n",
       "      <td>0.675700</td>\n",
       "      <td>9</td>\n",
       "    </tr>\n",
       "    <tr>\n",
       "      <th>426684</th>\n",
       "      <td>426684</td>\n",
       "      <td>293903</td>\n",
       "      <td>162488</td>\n",
       "      <td>5418</td>\n",
       "      <td>5.0</td>\n",
       "      <td>1202822677</td>\n",
       "      <td>216931938041</td>\n",
       "      <td>0</td>\n",
       "      <td>0.675700</td>\n",
       "      <td>9</td>\n",
       "    </tr>\n",
       "  </tbody>\n",
       "</table>\n",
       "<p>426685 rows × 10 columns</p>\n",
       "</div>"
      ],
      "text/plain": [
       "         index  Unnamed: 0  userID  itemID  rating   timestamp    genres_bin  \\\n",
       "0            0      455334     107    2579     3.0  1120911156  215858163513   \n",
       "1            1       53955     107    8970     5.0  1112452270   69256806688   \n",
       "2            2      149115     107     337     3.5  1116042439   69256806688   \n",
       "3            3      379717     107   42004     3.5  1162221330  218506945007   \n",
       "4            4      183376     107    2677     4.0  1146426915  215319291901   \n",
       "...        ...         ...     ...     ...     ...         ...           ...   \n",
       "426680  426680      229407  162488    2021     5.0  1202824734  221463897262   \n",
       "426681  426681      234578  162488    7076     4.5  1202823943  218509062120   \n",
       "426682  426682      464699  162488     592     5.0  1202822963  217972125672   \n",
       "426683  426683      279556  162488    1089     5.0  1202822376  215858163513   \n",
       "426684  426684      293903  162488    5418     5.0  1202822677  216931938041   \n",
       "\n",
       "        isNoisy  cluster_shc  group_clusters  \n",
       "0             0     0.666695              16  \n",
       "1             0     0.666695              16  \n",
       "2             0     0.666695              16  \n",
       "3             0     0.666695              16  \n",
       "4             0     0.666695              16  \n",
       "...         ...          ...             ...  \n",
       "426680        0     0.675700               9  \n",
       "426681        0     0.675700               9  \n",
       "426682        0     0.675700               9  \n",
       "426683        0     0.675700               9  \n",
       "426684        0     0.675700               9  \n",
       "\n",
       "[426685 rows x 10 columns]"
      ]
     },
     "execution_count": 14,
     "metadata": {},
     "output_type": "execute_result"
    }
   ],
   "source": [
    "target_group_df"
   ]
  },
  {
   "cell_type": "code",
   "execution_count": 15,
   "metadata": {},
   "outputs": [
    {
     "data": {
      "text/html": [
       "<div>\n",
       "<style scoped>\n",
       "    .dataframe tbody tr th:only-of-type {\n",
       "        vertical-align: middle;\n",
       "    }\n",
       "\n",
       "    .dataframe tbody tr th {\n",
       "        vertical-align: top;\n",
       "    }\n",
       "\n",
       "    .dataframe thead th {\n",
       "        text-align: right;\n",
       "    }\n",
       "</style>\n",
       "<table border=\"1\" class=\"dataframe\">\n",
       "  <thead>\n",
       "    <tr style=\"text-align: right;\">\n",
       "      <th></th>\n",
       "      <th>userID</th>\n",
       "      <th>itemID</th>\n",
       "      <th>rating</th>\n",
       "      <th>timestamp</th>\n",
       "    </tr>\n",
       "  </thead>\n",
       "  <tbody>\n",
       "    <tr>\n",
       "      <th>0</th>\n",
       "      <td>107</td>\n",
       "      <td>2579</td>\n",
       "      <td>3.0</td>\n",
       "      <td>1120911156</td>\n",
       "    </tr>\n",
       "    <tr>\n",
       "      <th>1</th>\n",
       "      <td>107</td>\n",
       "      <td>8970</td>\n",
       "      <td>5.0</td>\n",
       "      <td>1112452270</td>\n",
       "    </tr>\n",
       "    <tr>\n",
       "      <th>2</th>\n",
       "      <td>107</td>\n",
       "      <td>337</td>\n",
       "      <td>3.5</td>\n",
       "      <td>1116042439</td>\n",
       "    </tr>\n",
       "    <tr>\n",
       "      <th>3</th>\n",
       "      <td>107</td>\n",
       "      <td>42004</td>\n",
       "      <td>3.5</td>\n",
       "      <td>1162221330</td>\n",
       "    </tr>\n",
       "    <tr>\n",
       "      <th>4</th>\n",
       "      <td>107</td>\n",
       "      <td>2677</td>\n",
       "      <td>4.0</td>\n",
       "      <td>1146426915</td>\n",
       "    </tr>\n",
       "    <tr>\n",
       "      <th>...</th>\n",
       "      <td>...</td>\n",
       "      <td>...</td>\n",
       "      <td>...</td>\n",
       "      <td>...</td>\n",
       "    </tr>\n",
       "    <tr>\n",
       "      <th>426680</th>\n",
       "      <td>162488</td>\n",
       "      <td>2021</td>\n",
       "      <td>5.0</td>\n",
       "      <td>1202824734</td>\n",
       "    </tr>\n",
       "    <tr>\n",
       "      <th>426681</th>\n",
       "      <td>162488</td>\n",
       "      <td>7076</td>\n",
       "      <td>4.5</td>\n",
       "      <td>1202823943</td>\n",
       "    </tr>\n",
       "    <tr>\n",
       "      <th>426682</th>\n",
       "      <td>162488</td>\n",
       "      <td>592</td>\n",
       "      <td>5.0</td>\n",
       "      <td>1202822963</td>\n",
       "    </tr>\n",
       "    <tr>\n",
       "      <th>426683</th>\n",
       "      <td>162488</td>\n",
       "      <td>1089</td>\n",
       "      <td>5.0</td>\n",
       "      <td>1202822376</td>\n",
       "    </tr>\n",
       "    <tr>\n",
       "      <th>426684</th>\n",
       "      <td>162488</td>\n",
       "      <td>5418</td>\n",
       "      <td>5.0</td>\n",
       "      <td>1202822677</td>\n",
       "    </tr>\n",
       "  </tbody>\n",
       "</table>\n",
       "<p>426685 rows × 4 columns</p>\n",
       "</div>"
      ],
      "text/plain": [
       "        userID  itemID  rating   timestamp\n",
       "0          107    2579     3.0  1120911156\n",
       "1          107    8970     5.0  1112452270\n",
       "2          107     337     3.5  1116042439\n",
       "3          107   42004     3.5  1162221330\n",
       "4          107    2677     4.0  1146426915\n",
       "...        ...     ...     ...         ...\n",
       "426680  162488    2021     5.0  1202824734\n",
       "426681  162488    7076     4.5  1202823943\n",
       "426682  162488     592     5.0  1202822963\n",
       "426683  162488    1089     5.0  1202822376\n",
       "426684  162488    5418     5.0  1202822677\n",
       "\n",
       "[426685 rows x 4 columns]"
      ]
     },
     "execution_count": 15,
     "metadata": {},
     "output_type": "execute_result"
    }
   ],
   "source": [
    "train"
   ]
  },
  {
   "cell_type": "code",
   "execution_count": 16,
   "metadata": {},
   "outputs": [
    {
     "name": "stdout",
     "output_type": "stream",
     "text": [
      "total users in main dataset: 5624\n",
      "total users in train dataset: 5624\n",
      "total users in test dataset: 5623\n"
     ]
    }
   ],
   "source": [
    "print(\"total users in main dataset:\", len(list(set(df.userID.to_list()))))\n",
    "print(\"total users in train dataset:\", len(list(set(train.userID.to_list()))))\n",
    "print(\"total users in test dataset:\", len(list(set(test.userID.to_list()))))\n",
    "# train = train.set_index('index')\n",
    "# test = test.set_index('index')"
   ]
  },
  {
   "cell_type": "code",
   "execution_count": 17,
   "metadata": {},
   "outputs": [
    {
     "data": {
      "text/html": [
       "<div>\n",
       "<style scoped>\n",
       "    .dataframe tbody tr th:only-of-type {\n",
       "        vertical-align: middle;\n",
       "    }\n",
       "\n",
       "    .dataframe tbody tr th {\n",
       "        vertical-align: top;\n",
       "    }\n",
       "\n",
       "    .dataframe thead th {\n",
       "        text-align: right;\n",
       "    }\n",
       "</style>\n",
       "<table border=\"1\" class=\"dataframe\">\n",
       "  <thead>\n",
       "    <tr style=\"text-align: right;\">\n",
       "      <th></th>\n",
       "      <th>Unnamed: 0</th>\n",
       "      <th>userID</th>\n",
       "      <th>itemID</th>\n",
       "      <th>rating</th>\n",
       "      <th>timestamp</th>\n",
       "      <th>genres_bin</th>\n",
       "      <th>isNoisy</th>\n",
       "    </tr>\n",
       "  </thead>\n",
       "  <tbody>\n",
       "    <tr>\n",
       "      <th>0</th>\n",
       "      <td>348542</td>\n",
       "      <td>107</td>\n",
       "      <td>6571</td>\n",
       "      <td>3.0</td>\n",
       "      <td>1112452211</td>\n",
       "      <td>69256806688</td>\n",
       "      <td>0</td>\n",
       "    </tr>\n",
       "    <tr>\n",
       "      <th>1</th>\n",
       "      <td>66498</td>\n",
       "      <td>107</td>\n",
       "      <td>27432</td>\n",
       "      <td>3.0</td>\n",
       "      <td>1162221547</td>\n",
       "      <td>69256806688</td>\n",
       "      <td>0</td>\n",
       "    </tr>\n",
       "    <tr>\n",
       "      <th>2</th>\n",
       "      <td>115797</td>\n",
       "      <td>107</td>\n",
       "      <td>5377</td>\n",
       "      <td>3.5</td>\n",
       "      <td>1146426679</td>\n",
       "      <td>216367882721</td>\n",
       "      <td>0</td>\n",
       "    </tr>\n",
       "    <tr>\n",
       "      <th>3</th>\n",
       "      <td>34747</td>\n",
       "      <td>107</td>\n",
       "      <td>8254</td>\n",
       "      <td>4.0</td>\n",
       "      <td>1136781359</td>\n",
       "      <td>216636318201</td>\n",
       "      <td>0</td>\n",
       "    </tr>\n",
       "    <tr>\n",
       "      <th>4</th>\n",
       "      <td>93876</td>\n",
       "      <td>107</td>\n",
       "      <td>1172</td>\n",
       "      <td>3.5</td>\n",
       "      <td>1116042312</td>\n",
       "      <td>69256806688</td>\n",
       "      <td>0</td>\n",
       "    </tr>\n",
       "    <tr>\n",
       "      <th>...</th>\n",
       "      <td>...</td>\n",
       "      <td>...</td>\n",
       "      <td>...</td>\n",
       "      <td>...</td>\n",
       "      <td>...</td>\n",
       "      <td>...</td>\n",
       "      <td>...</td>\n",
       "    </tr>\n",
       "    <tr>\n",
       "      <th>75301</th>\n",
       "      <td>411435</td>\n",
       "      <td>162488</td>\n",
       "      <td>1704</td>\n",
       "      <td>4.5</td>\n",
       "      <td>1202823491</td>\n",
       "      <td>215294124512</td>\n",
       "      <td>0</td>\n",
       "    </tr>\n",
       "    <tr>\n",
       "      <th>75302</th>\n",
       "      <td>307421</td>\n",
       "      <td>162488</td>\n",
       "      <td>1036</td>\n",
       "      <td>5.0</td>\n",
       "      <td>1202823585</td>\n",
       "      <td>217972125672</td>\n",
       "      <td>0</td>\n",
       "    </tr>\n",
       "    <tr>\n",
       "      <th>75303</th>\n",
       "      <td>267431</td>\n",
       "      <td>162488</td>\n",
       "      <td>6305</td>\n",
       "      <td>5.0</td>\n",
       "      <td>1202822076</td>\n",
       "      <td>219853325600</td>\n",
       "      <td>0</td>\n",
       "    </tr>\n",
       "    <tr>\n",
       "      <th>75304</th>\n",
       "      <td>171426</td>\n",
       "      <td>162488</td>\n",
       "      <td>180</td>\n",
       "      <td>4.5</td>\n",
       "      <td>1202822988</td>\n",
       "      <td>215831011777</td>\n",
       "      <td>0</td>\n",
       "    </tr>\n",
       "    <tr>\n",
       "      <th>75305</th>\n",
       "      <td>245221</td>\n",
       "      <td>162488</td>\n",
       "      <td>1732</td>\n",
       "      <td>4.5</td>\n",
       "      <td>1202823926</td>\n",
       "      <td>215822525793</td>\n",
       "      <td>0</td>\n",
       "    </tr>\n",
       "  </tbody>\n",
       "</table>\n",
       "<p>75306 rows × 7 columns</p>\n",
       "</div>"
      ],
      "text/plain": [
       "       Unnamed: 0  userID  itemID  rating   timestamp    genres_bin  isNoisy\n",
       "0          348542     107    6571     3.0  1112452211   69256806688        0\n",
       "1           66498     107   27432     3.0  1162221547   69256806688        0\n",
       "2          115797     107    5377     3.5  1146426679  216367882721        0\n",
       "3           34747     107    8254     4.0  1136781359  216636318201        0\n",
       "4           93876     107    1172     3.5  1116042312   69256806688        0\n",
       "...           ...     ...     ...     ...         ...           ...      ...\n",
       "75301      411435  162488    1704     4.5  1202823491  215294124512        0\n",
       "75302      307421  162488    1036     5.0  1202823585  217972125672        0\n",
       "75303      267431  162488    6305     5.0  1202822076  219853325600        0\n",
       "75304      171426  162488     180     4.5  1202822988  215831011777        0\n",
       "75305      245221  162488    1732     4.5  1202823926  215822525793        0\n",
       "\n",
       "[75306 rows x 7 columns]"
      ]
     },
     "execution_count": 17,
     "metadata": {},
     "output_type": "execute_result"
    }
   ],
   "source": [
    "test"
   ]
  },
  {
   "cell_type": "code",
   "execution_count": 18,
   "metadata": {},
   "outputs": [
    {
     "data": {
      "text/html": [
       "<div>\n",
       "<style scoped>\n",
       "    .dataframe tbody tr th:only-of-type {\n",
       "        vertical-align: middle;\n",
       "    }\n",
       "\n",
       "    .dataframe tbody tr th {\n",
       "        vertical-align: top;\n",
       "    }\n",
       "\n",
       "    .dataframe thead th {\n",
       "        text-align: right;\n",
       "    }\n",
       "</style>\n",
       "<table border=\"1\" class=\"dataframe\">\n",
       "  <thead>\n",
       "    <tr style=\"text-align: right;\">\n",
       "      <th></th>\n",
       "      <th>userID</th>\n",
       "      <th>itemID</th>\n",
       "      <th>rating</th>\n",
       "      <th>timestamp</th>\n",
       "    </tr>\n",
       "  </thead>\n",
       "  <tbody>\n",
       "    <tr>\n",
       "      <th>0</th>\n",
       "      <td>107</td>\n",
       "      <td>2579</td>\n",
       "      <td>3.0</td>\n",
       "      <td>1120911156</td>\n",
       "    </tr>\n",
       "    <tr>\n",
       "      <th>1</th>\n",
       "      <td>107</td>\n",
       "      <td>8970</td>\n",
       "      <td>5.0</td>\n",
       "      <td>1112452270</td>\n",
       "    </tr>\n",
       "    <tr>\n",
       "      <th>2</th>\n",
       "      <td>107</td>\n",
       "      <td>337</td>\n",
       "      <td>3.5</td>\n",
       "      <td>1116042439</td>\n",
       "    </tr>\n",
       "    <tr>\n",
       "      <th>3</th>\n",
       "      <td>107</td>\n",
       "      <td>42004</td>\n",
       "      <td>3.5</td>\n",
       "      <td>1162221330</td>\n",
       "    </tr>\n",
       "    <tr>\n",
       "      <th>4</th>\n",
       "      <td>107</td>\n",
       "      <td>2677</td>\n",
       "      <td>4.0</td>\n",
       "      <td>1146426915</td>\n",
       "    </tr>\n",
       "    <tr>\n",
       "      <th>...</th>\n",
       "      <td>...</td>\n",
       "      <td>...</td>\n",
       "      <td>...</td>\n",
       "      <td>...</td>\n",
       "    </tr>\n",
       "    <tr>\n",
       "      <th>426680</th>\n",
       "      <td>162488</td>\n",
       "      <td>2021</td>\n",
       "      <td>5.0</td>\n",
       "      <td>1202824734</td>\n",
       "    </tr>\n",
       "    <tr>\n",
       "      <th>426681</th>\n",
       "      <td>162488</td>\n",
       "      <td>7076</td>\n",
       "      <td>4.5</td>\n",
       "      <td>1202823943</td>\n",
       "    </tr>\n",
       "    <tr>\n",
       "      <th>426682</th>\n",
       "      <td>162488</td>\n",
       "      <td>592</td>\n",
       "      <td>5.0</td>\n",
       "      <td>1202822963</td>\n",
       "    </tr>\n",
       "    <tr>\n",
       "      <th>426683</th>\n",
       "      <td>162488</td>\n",
       "      <td>1089</td>\n",
       "      <td>5.0</td>\n",
       "      <td>1202822376</td>\n",
       "    </tr>\n",
       "    <tr>\n",
       "      <th>426684</th>\n",
       "      <td>162488</td>\n",
       "      <td>5418</td>\n",
       "      <td>5.0</td>\n",
       "      <td>1202822677</td>\n",
       "    </tr>\n",
       "  </tbody>\n",
       "</table>\n",
       "<p>426685 rows × 4 columns</p>\n",
       "</div>"
      ],
      "text/plain": [
       "        userID  itemID  rating   timestamp\n",
       "0          107    2579     3.0  1120911156\n",
       "1          107    8970     5.0  1112452270\n",
       "2          107     337     3.5  1116042439\n",
       "3          107   42004     3.5  1162221330\n",
       "4          107    2677     4.0  1146426915\n",
       "...        ...     ...     ...         ...\n",
       "426680  162488    2021     5.0  1202824734\n",
       "426681  162488    7076     4.5  1202823943\n",
       "426682  162488     592     5.0  1202822963\n",
       "426683  162488    1089     5.0  1202822376\n",
       "426684  162488    5418     5.0  1202822677\n",
       "\n",
       "[426685 rows x 4 columns]"
      ]
     },
     "execution_count": 18,
     "metadata": {},
     "output_type": "execute_result"
    }
   ],
   "source": [
    "train"
   ]
  },
  {
   "cell_type": "code",
   "execution_count": 19,
   "metadata": {},
   "outputs": [
    {
     "data": {
      "text/plain": [
       "{0.6002271524894276}"
      ]
     },
     "execution_count": 19,
     "metadata": {},
     "output_type": "execute_result"
    }
   ],
   "source": [
    "set(train_clusters[train_clusters['group_clusters'] == target_group].cluster_shc.to_list())"
   ]
  },
  {
   "cell_type": "markdown",
   "metadata": {},
   "source": [
    "### 2.2 Process data\n",
    "\n",
    "`ImplicitCF` is a class that intializes and loads data for the training process. During the initialization of this class, user IDs and item IDs are reindexed, ratings greater than zero are converted into implicit positive interaction, and adjacency matrix $R$ of user-item graph is created. Some important methods of `ImplicitCF` are:\n",
    "\n",
    "`get_norm_adj_mat`, load normalized adjacency matrix of user-item graph if it already exists in `adj_dir`, otherwise call `create_norm_adj_mat` to create the matrix and save the matrix if `adj_dir` is not `None`. This method will be called during the initialization process of LightGCN model.\n",
    "\n",
    "`create_norm_adj_mat`, create normalized adjacency matrix of user-item graph by calculating $D^{-\\frac{1}{2}} A D^{-\\frac{1}{2}}$, where $\\mathbf{A}=\\left(\\begin{array}{cc}\\mathbf{0} & \\mathbf{R} \\\\ \\mathbf{R}^{T} & \\mathbf{0}\\end{array}\\right)$.\n",
    "\n",
    "`train_loader`, generate a batch of training data — sample a batch of users and then sample one positive item and one negative item for each user. This method will be called before each epoch of the training process.\n"
   ]
  },
  {
   "cell_type": "code",
   "execution_count": 20,
   "metadata": {},
   "outputs": [],
   "source": [
    "data = ImplicitCF(train=train, test=test, seed=SEED)"
   ]
  },
  {
   "cell_type": "markdown",
   "metadata": {},
   "source": [
    "### 2.3 Prepare hyper-parameters\n",
    "\n",
    "Important parameters of `LightGCN` model are:\n",
    "\n",
    "`data`, initialized LightGCNDataset object.\n",
    "\n",
    "`epochs`, number of epochs for training.\n",
    "\n",
    "`n_layers`, number of layers of the model.\n",
    "\n",
    "`eval_epoch`, if it is not None, evaluation metrics will be calculated on test set every \"eval_epoch\" epochs. In this way, we can observe the effect of the model during the training process.\n",
    "\n",
    "`top_k`, the number of items to be recommended for each user when calculating ranking metrics.\n",
    "\n",
    "A complete list of parameters can be found in `yaml_file`. We use `prepare_hparams` to read the yaml file and prepare a full set of parameters for the model. Parameters passed as the function's parameters will overwrite yaml settings."
   ]
  },
  {
   "cell_type": "code",
   "execution_count": 21,
   "metadata": {},
   "outputs": [],
   "source": [
    "hparams = prepare_hparams(\n",
    "    yaml_file,\n",
    "    n_layers=3,\n",
    "    batch_size=BATCH_SIZE,\n",
    "    epochs=EPOCHS,\n",
    "    learning_rate=0.01,\n",
    "    eval_epoch=5,\n",
    "    top_k=TOP_K,\n",
    ")"
   ]
  },
  {
   "cell_type": "markdown",
   "metadata": {},
   "source": [
    "### 2.4 Create and train model\n",
    "\n",
    "With data and parameters prepared, we can create the LightGCN model.\n",
    "\n",
    "To train the model, we simply need to call the `fit()` method."
   ]
  },
  {
   "cell_type": "code",
   "execution_count": 22,
   "metadata": {},
   "outputs": [
    {
     "name": "stdout",
     "output_type": "stream",
     "text": [
      "Already create adjacency matrix.\n",
      "Already normalize adjacency matrix.\n",
      "Using xavier initialization.\n"
     ]
    }
   ],
   "source": [
    "model = LightGCN(hparams, data, seed=SEED)"
   ]
  },
  {
   "cell_type": "code",
   "execution_count": 23,
   "metadata": {},
   "outputs": [
    {
     "name": "stdout",
     "output_type": "stream",
     "text": [
      "Epoch 1 (train)24.1s: train loss = 0.20863 = (mf)0.20801 + (embed)0.00062\n",
      "Epoch 2 (train)23.8s: train loss = 0.14586 = (mf)0.14463 + (embed)0.00123\n",
      "Epoch 3 (train)23.7s: train loss = 0.13162 = (mf)0.12994 + (embed)0.00169\n",
      "Epoch 4 (train)24.7s: train loss = 0.12012 = (mf)0.11799 + (embed)0.00213\n"
     ]
    },
    {
     "name": "stderr",
     "output_type": "stream",
     "text": [
      "C:\\Users\\clari\\Desktop\\M2 - Thesis\\Research\\Dr Jacques Bou Abdo\\Recommender System\\5 - Ensemble Learning Model\\Accuracy Metrics\\serendipity-main\\venv\\lib\\site-packages\\recommenders\\evaluation\\python_evaluation.py:438: FutureWarning: Passing a dictionary to SeriesGroupBy.agg is deprecated and will raise in a future version of pandas. Pass a list of aggregations instead.\n",
      "  df_hit.groupby(col_user, as_index=False)[col_user].agg({\"hit\": \"count\"}),\n",
      "C:\\Users\\clari\\Desktop\\M2 - Thesis\\Research\\Dr Jacques Bou Abdo\\Recommender System\\5 - Ensemble Learning Model\\Accuracy Metrics\\serendipity-main\\venv\\lib\\site-packages\\recommenders\\evaluation\\python_evaluation.py:439: FutureWarning: Passing a dictionary to SeriesGroupBy.agg is deprecated and will raise in a future version of pandas. Pass a list of aggregations instead.\n",
      "  rating_true_common.groupby(col_user, as_index=False)[col_user].agg(\n"
     ]
    },
    {
     "name": "stdout",
     "output_type": "stream",
     "text": [
      "Epoch 5 (train)23.7s + (eval)2.3s: train loss = 0.10882 = (mf)0.10622 + (embed)0.00259, recall = 0.03523, ndcg = 0.04197, precision = 0.03758, map = 0.01449\n",
      "Epoch 6 (train)23.6s: train loss = 0.10149 = (mf)0.09841 + (embed)0.00308\n",
      "Epoch 7 (train)22.5s: train loss = 0.09282 = (mf)0.08919 + (embed)0.00362\n",
      "Epoch 8 (train)22.7s: train loss = 0.08474 = (mf)0.08057 + (embed)0.00417\n",
      "Epoch 9 (train)22.5s: train loss = 0.07916 = (mf)0.07447 + (embed)0.00469\n"
     ]
    },
    {
     "name": "stderr",
     "output_type": "stream",
     "text": [
      "C:\\Users\\clari\\Desktop\\M2 - Thesis\\Research\\Dr Jacques Bou Abdo\\Recommender System\\5 - Ensemble Learning Model\\Accuracy Metrics\\serendipity-main\\venv\\lib\\site-packages\\recommenders\\evaluation\\python_evaluation.py:438: FutureWarning: Passing a dictionary to SeriesGroupBy.agg is deprecated and will raise in a future version of pandas. Pass a list of aggregations instead.\n",
      "  df_hit.groupby(col_user, as_index=False)[col_user].agg({\"hit\": \"count\"}),\n",
      "C:\\Users\\clari\\Desktop\\M2 - Thesis\\Research\\Dr Jacques Bou Abdo\\Recommender System\\5 - Ensemble Learning Model\\Accuracy Metrics\\serendipity-main\\venv\\lib\\site-packages\\recommenders\\evaluation\\python_evaluation.py:439: FutureWarning: Passing a dictionary to SeriesGroupBy.agg is deprecated and will raise in a future version of pandas. Pass a list of aggregations instead.\n",
      "  rating_true_common.groupby(col_user, as_index=False)[col_user].agg(\n"
     ]
    },
    {
     "name": "stdout",
     "output_type": "stream",
     "text": [
      "Epoch 10 (train)22.3s + (eval)1.7s: train loss = 0.07549 = (mf)0.07034 + (embed)0.00515, recall = 0.03792, ndcg = 0.04396, precision = 0.03941, map = 0.01527\n",
      "Epoch 11 (train)23.0s: train loss = 0.07108 = (mf)0.06549 + (embed)0.00559\n",
      "Epoch 12 (train)22.7s: train loss = 0.06767 = (mf)0.06166 + (embed)0.00601\n",
      "Epoch 13 (train)23.2s: train loss = 0.06589 = (mf)0.05950 + (embed)0.00639\n",
      "Epoch 14 (train)24.8s: train loss = 0.06300 = (mf)0.05622 + (embed)0.00678\n"
     ]
    },
    {
     "name": "stderr",
     "output_type": "stream",
     "text": [
      "C:\\Users\\clari\\Desktop\\M2 - Thesis\\Research\\Dr Jacques Bou Abdo\\Recommender System\\5 - Ensemble Learning Model\\Accuracy Metrics\\serendipity-main\\venv\\lib\\site-packages\\recommenders\\evaluation\\python_evaluation.py:438: FutureWarning: Passing a dictionary to SeriesGroupBy.agg is deprecated and will raise in a future version of pandas. Pass a list of aggregations instead.\n",
      "  df_hit.groupby(col_user, as_index=False)[col_user].agg({\"hit\": \"count\"}),\n",
      "C:\\Users\\clari\\Desktop\\M2 - Thesis\\Research\\Dr Jacques Bou Abdo\\Recommender System\\5 - Ensemble Learning Model\\Accuracy Metrics\\serendipity-main\\venv\\lib\\site-packages\\recommenders\\evaluation\\python_evaluation.py:439: FutureWarning: Passing a dictionary to SeriesGroupBy.agg is deprecated and will raise in a future version of pandas. Pass a list of aggregations instead.\n",
      "  rating_true_common.groupby(col_user, as_index=False)[col_user].agg(\n"
     ]
    },
    {
     "name": "stdout",
     "output_type": "stream",
     "text": [
      "Epoch 15 (train)22.6s + (eval)1.8s: train loss = 0.06043 = (mf)0.05329 + (embed)0.00714, recall = 0.03608, ndcg = 0.04362, precision = 0.03857, map = 0.01531\n",
      "Epoch 16 (train)22.8s: train loss = 0.05921 = (mf)0.05172 + (embed)0.00749\n",
      "Epoch 17 (train)22.7s: train loss = 0.05766 = (mf)0.04982 + (embed)0.00785\n",
      "Epoch 18 (train)22.6s: train loss = 0.05592 = (mf)0.04773 + (embed)0.00819\n",
      "Epoch 19 (train)23.1s: train loss = 0.05457 = (mf)0.04607 + (embed)0.00850\n"
     ]
    },
    {
     "name": "stderr",
     "output_type": "stream",
     "text": [
      "C:\\Users\\clari\\Desktop\\M2 - Thesis\\Research\\Dr Jacques Bou Abdo\\Recommender System\\5 - Ensemble Learning Model\\Accuracy Metrics\\serendipity-main\\venv\\lib\\site-packages\\recommenders\\evaluation\\python_evaluation.py:438: FutureWarning: Passing a dictionary to SeriesGroupBy.agg is deprecated and will raise in a future version of pandas. Pass a list of aggregations instead.\n",
      "  df_hit.groupby(col_user, as_index=False)[col_user].agg({\"hit\": \"count\"}),\n",
      "C:\\Users\\clari\\Desktop\\M2 - Thesis\\Research\\Dr Jacques Bou Abdo\\Recommender System\\5 - Ensemble Learning Model\\Accuracy Metrics\\serendipity-main\\venv\\lib\\site-packages\\recommenders\\evaluation\\python_evaluation.py:439: FutureWarning: Passing a dictionary to SeriesGroupBy.agg is deprecated and will raise in a future version of pandas. Pass a list of aggregations instead.\n",
      "  rating_true_common.groupby(col_user, as_index=False)[col_user].agg(\n"
     ]
    },
    {
     "name": "stdout",
     "output_type": "stream",
     "text": [
      "Epoch 20 (train)22.7s + (eval)1.9s: train loss = 0.05352 = (mf)0.04471 + (embed)0.00881, recall = 0.03577, ndcg = 0.04226, precision = 0.03752, map = 0.01478\n",
      "Took 471.1930119000026 seconds for training.\n"
     ]
    }
   ],
   "source": [
    "with Timer() as train_time:\n",
    "    model.fit()\n",
    "\n",
    "print(\"Took {} seconds for training.\".format(train_time.interval))"
   ]
  },
  {
   "cell_type": "markdown",
   "metadata": {},
   "source": [
    "### 2.5 Recommendation and Evaluation"
   ]
  },
  {
   "cell_type": "markdown",
   "metadata": {},
   "source": [
    "Recommendation and evaluation have been performed on the specified test set during training. After training, we can also use the model to perform recommendation and evalution on other data. Here we still use `test` as test data, but `test` can be replaced by other data with similar data structure."
   ]
  },
  {
   "cell_type": "markdown",
   "metadata": {},
   "source": [
    "#### 2.5.1 Recommendation\n",
    "\n",
    "We can call `recommend_k_items` to recommend k items for each user passed in this function. We set `remove_seen=True` to remove the items already seen by the user. The function returns a dataframe, containing each user and top k items recommended to them and the corresponding ranking scores."
   ]
  },
  {
   "cell_type": "code",
   "execution_count": 24,
   "metadata": {},
   "outputs": [
    {
     "data": {
      "text/html": [
       "<div>\n",
       "<style scoped>\n",
       "    .dataframe tbody tr th:only-of-type {\n",
       "        vertical-align: middle;\n",
       "    }\n",
       "\n",
       "    .dataframe tbody tr th {\n",
       "        vertical-align: top;\n",
       "    }\n",
       "\n",
       "    .dataframe thead th {\n",
       "        text-align: right;\n",
       "    }\n",
       "</style>\n",
       "<table border=\"1\" class=\"dataframe\">\n",
       "  <thead>\n",
       "    <tr style=\"text-align: right;\">\n",
       "      <th></th>\n",
       "      <th>userID</th>\n",
       "      <th>itemID</th>\n",
       "      <th>prediction</th>\n",
       "    </tr>\n",
       "  </thead>\n",
       "  <tbody>\n",
       "    <tr>\n",
       "      <th>0</th>\n",
       "      <td>107</td>\n",
       "      <td>6620</td>\n",
       "      <td>11.488093</td>\n",
       "    </tr>\n",
       "    <tr>\n",
       "      <th>1</th>\n",
       "      <td>107</td>\n",
       "      <td>296</td>\n",
       "      <td>10.400379</td>\n",
       "    </tr>\n",
       "    <tr>\n",
       "      <th>2</th>\n",
       "      <td>107</td>\n",
       "      <td>4973</td>\n",
       "      <td>10.394620</td>\n",
       "    </tr>\n",
       "    <tr>\n",
       "      <th>3</th>\n",
       "      <td>107</td>\n",
       "      <td>4226</td>\n",
       "      <td>10.098305</td>\n",
       "    </tr>\n",
       "    <tr>\n",
       "      <th>4</th>\n",
       "      <td>107</td>\n",
       "      <td>3911</td>\n",
       "      <td>9.915670</td>\n",
       "    </tr>\n",
       "  </tbody>\n",
       "</table>\n",
       "</div>"
      ],
      "text/plain": [
       "   userID  itemID  prediction\n",
       "0     107    6620   11.488093\n",
       "1     107     296   10.400379\n",
       "2     107    4973   10.394620\n",
       "3     107    4226   10.098305\n",
       "4     107    3911    9.915670"
      ]
     },
     "execution_count": 24,
     "metadata": {},
     "output_type": "execute_result"
    }
   ],
   "source": [
    "topk_scores = model.recommend_k_items(train, top_k=TOP_K, remove_seen=True)\n",
    "topk_scores.head()"
   ]
  },
  {
   "cell_type": "markdown",
   "metadata": {},
   "source": [
    "#### 2.5.2 Evaluation\n",
    "\n",
    "With `topk_scores` predicted by the model, we can evaluate how LightGCN performs on this test set."
   ]
  },
  {
   "cell_type": "code",
   "execution_count": 25,
   "metadata": {},
   "outputs": [],
   "source": [
    "columns_to_keep = ['userID', 'itemID', 'rating', 'timestamp']\n",
    "\n",
    "# Create a new DataFrame with only the selected columns\n",
    "#test1 = test[columns_to_keep].astype(float)\n"
   ]
  },
  {
   "cell_type": "code",
   "execution_count": 26,
   "metadata": {},
   "outputs": [
    {
     "data": {
      "text/plain": [
       "'\\nimport json\\n\\neval_map = map_at_k(test1, topk_scores, k=TOP_K)\\neval_ndcg = ndcg_at_k(test1, topk_scores, k=TOP_K)\\neval_precision = precision_at_k(test1, topk_scores, k=TOP_K)\\neval_recall = recall_at_k(test1, topk_scores, k=TOP_K)\\n#eval_serendipity = serendipity(train, topk_scores)\\n#eval_coverage = catalog_coverage(train, topk_scores)\\neval_serendipity = serendipity(train, topk_scores)\\neval_coverage = catalog_coverage(train, topk_scores)\\n\\nmetric_results = {\\n    \\'MAP\\': eval_map,\\n    \\'NDCG\\': eval_ndcg,\\n    \\'Precision\\': eval_precision,\\n    \\'Recall\\': eval_recall,\\n    \\'User Serendipity\\': eval_serendipity,\\n    \\'Coverage\\': eval_coverage\\n}\\n\\nprint(json.dumps(metric_results, indent=4))\\nwith open(\"../output/exp-3/\"+dataset_name+\"/metric_results.txt\", \"w\") as fp:\\n    json.dump(metric_results, fp, indent=4)\\n'"
      ]
     },
     "execution_count": 26,
     "metadata": {},
     "output_type": "execute_result"
    }
   ],
   "source": [
    "'''\n",
    "import json\n",
    "\n",
    "eval_map = map_at_k(test1, topk_scores, k=TOP_K)\n",
    "eval_ndcg = ndcg_at_k(test1, topk_scores, k=TOP_K)\n",
    "eval_precision = precision_at_k(test1, topk_scores, k=TOP_K)\n",
    "eval_recall = recall_at_k(test1, topk_scores, k=TOP_K)\n",
    "#eval_serendipity = serendipity(train, topk_scores)\n",
    "#eval_coverage = catalog_coverage(train, topk_scores)\n",
    "eval_serendipity = serendipity(train, topk_scores)\n",
    "eval_coverage = catalog_coverage(train, topk_scores)\n",
    "\n",
    "metric_results = {\n",
    "    'MAP': eval_map,\n",
    "    'NDCG': eval_ndcg,\n",
    "    'Precision': eval_precision,\n",
    "    'Recall': eval_recall,\n",
    "    'User Serendipity': eval_serendipity,\n",
    "    'Coverage': eval_coverage\n",
    "}\n",
    "\n",
    "print(json.dumps(metric_results, indent=4))\n",
    "with open(\"../output/exp-3/\"+dataset_name+\"/metric_results.txt\", \"w\") as fp:\n",
    "    json.dump(metric_results, fp, indent=4)\n",
    "'''"
   ]
  },
  {
   "cell_type": "code",
   "execution_count": 27,
   "metadata": {},
   "outputs": [
    {
     "data": {
      "text/html": [
       "<div>\n",
       "<style scoped>\n",
       "    .dataframe tbody tr th:only-of-type {\n",
       "        vertical-align: middle;\n",
       "    }\n",
       "\n",
       "    .dataframe tbody tr th {\n",
       "        vertical-align: top;\n",
       "    }\n",
       "\n",
       "    .dataframe thead th {\n",
       "        text-align: right;\n",
       "    }\n",
       "</style>\n",
       "<table border=\"1\" class=\"dataframe\">\n",
       "  <thead>\n",
       "    <tr style=\"text-align: right;\">\n",
       "      <th></th>\n",
       "      <th>userID</th>\n",
       "      <th>itemID</th>\n",
       "      <th>rating</th>\n",
       "      <th>timestamp</th>\n",
       "    </tr>\n",
       "  </thead>\n",
       "  <tbody>\n",
       "    <tr>\n",
       "      <th>0</th>\n",
       "      <td>107</td>\n",
       "      <td>2579</td>\n",
       "      <td>3.0</td>\n",
       "      <td>1120911156</td>\n",
       "    </tr>\n",
       "    <tr>\n",
       "      <th>1</th>\n",
       "      <td>107</td>\n",
       "      <td>8970</td>\n",
       "      <td>5.0</td>\n",
       "      <td>1112452270</td>\n",
       "    </tr>\n",
       "    <tr>\n",
       "      <th>2</th>\n",
       "      <td>107</td>\n",
       "      <td>337</td>\n",
       "      <td>3.5</td>\n",
       "      <td>1116042439</td>\n",
       "    </tr>\n",
       "    <tr>\n",
       "      <th>3</th>\n",
       "      <td>107</td>\n",
       "      <td>42004</td>\n",
       "      <td>3.5</td>\n",
       "      <td>1162221330</td>\n",
       "    </tr>\n",
       "    <tr>\n",
       "      <th>4</th>\n",
       "      <td>107</td>\n",
       "      <td>2677</td>\n",
       "      <td>4.0</td>\n",
       "      <td>1146426915</td>\n",
       "    </tr>\n",
       "  </tbody>\n",
       "</table>\n",
       "</div>"
      ],
      "text/plain": [
       "   userID  itemID  rating   timestamp\n",
       "0     107    2579     3.0  1120911156\n",
       "1     107    8970     5.0  1112452270\n",
       "2     107     337     3.5  1116042439\n",
       "3     107   42004     3.5  1162221330\n",
       "4     107    2677     4.0  1146426915"
      ]
     },
     "execution_count": 27,
     "metadata": {},
     "output_type": "execute_result"
    }
   ],
   "source": [
    "train.head()"
   ]
  },
  {
   "cell_type": "code",
   "execution_count": 28,
   "metadata": {},
   "outputs": [],
   "source": [
    "#test2.head()"
   ]
  },
  {
   "cell_type": "code",
   "execution_count": 29,
   "metadata": {},
   "outputs": [
    {
     "name": "stderr",
     "output_type": "stream",
     "text": [
      "C:\\Users\\clari\\Desktop\\M2 - Thesis\\Research\\Dr Jacques Bou Abdo\\Recommender System\\5 - Ensemble Learning Model\\Accuracy Metrics\\serendipity-main\\venv\\lib\\site-packages\\recommenders\\evaluation\\python_evaluation.py:1511: FutureWarning: A value is trying to be set on a copy of a DataFrame or Series through chained assignment using an inplace method.\n",
      "The behavior will change in pandas 3.0. This inplace method will never work because the intermediate object on which we are setting values always behaves as a copy.\n",
      "\n",
      "For example, when doing 'df[col].method(value, inplace=True)', try using 'df.method({col: value}, inplace=True)' or df[col] = df[col].method(value) instead, to perform the operation inplace on the original object.\n",
      "\n",
      "\n",
      "  reco_train_user_item_sim[col_sim].fillna(0, inplace=True)\n",
      "C:\\Users\\clari\\Desktop\\M2 - Thesis\\Research\\Dr Jacques Bou Abdo\\Recommender System\\5 - Ensemble Learning Model\\Accuracy Metrics\\serendipity-main\\venv\\lib\\site-packages\\recommenders\\evaluation\\python_evaluation.py:438: FutureWarning: Passing a dictionary to SeriesGroupBy.agg is deprecated and will raise in a future version of pandas. Pass a list of aggregations instead.\n",
      "  df_hit.groupby(col_user, as_index=False)[col_user].agg({\"hit\": \"count\"}),\n",
      "C:\\Users\\clari\\Desktop\\M2 - Thesis\\Research\\Dr Jacques Bou Abdo\\Recommender System\\5 - Ensemble Learning Model\\Accuracy Metrics\\serendipity-main\\venv\\lib\\site-packages\\recommenders\\evaluation\\python_evaluation.py:439: FutureWarning: Passing a dictionary to SeriesGroupBy.agg is deprecated and will raise in a future version of pandas. Pass a list of aggregations instead.\n",
      "  rating_true_common.groupby(col_user, as_index=False)[col_user].agg(\n"
     ]
    }
   ],
   "source": [
    "# load clusters if not previously loaded\n",
    "# clusters = pd.read_csv('./output/exp-2/group_clusters.csv', usecols=['user_id', 'group'])\n",
    "\n",
    "# get per-user serendipity score\n",
    "#eval_serendipity = user_serendipity(train, topk_scores)\n",
    "eval_serendipity = user_serendipity(train, topk_scores)\n",
    "eval_ndcg = ndcg_at_k(test, topk_scores, k=TOP_K)\n",
    "eval_precision = precision_at_k(test, topk_scores, k=TOP_K)\n",
    "eval_recall = recall_at_k(test, topk_scores, k=TOP_K)\n",
    "\n",
    "# calculate per-cluster serendipity score\n",
    "eval_serendipity_clulsters = clusters.merge(eval_serendipity, left_on='userId', right_on='userID').drop(columns=['userID'])\n",
    "cluster_serendipity = eval_serendipity_clulsters.groupby('cluster')\n",
    "cluster_serendipity[['user_serendipity']].to_csv('../output/exp-3/'+dataset_name+'/cluster_serendipity2.csv')"
   ]
  },
  {
   "cell_type": "code",
   "execution_count": null,
   "metadata": {},
   "outputs": [],
   "source": []
  },
  {
   "cell_type": "code",
   "execution_count": 30,
   "metadata": {},
   "outputs": [
    {
     "data": {
      "text/plain": [
       "5624"
      ]
     },
     "execution_count": 30,
     "metadata": {},
     "output_type": "execute_result"
    }
   ],
   "source": [
    "len(train['userID'].unique())"
   ]
  },
  {
   "cell_type": "code",
   "execution_count": 31,
   "metadata": {},
   "outputs": [
    {
     "data": {
      "text/plain": [
       "5624"
      ]
     },
     "execution_count": 31,
     "metadata": {},
     "output_type": "execute_result"
    }
   ],
   "source": [
    "len(eval_serendipity['userID'].unique())"
   ]
  },
  {
   "cell_type": "code",
   "execution_count": 32,
   "metadata": {},
   "outputs": [
    {
     "data": {
      "text/plain": [
       "5624"
      ]
     },
     "execution_count": 32,
     "metadata": {},
     "output_type": "execute_result"
    }
   ],
   "source": [
    "len(cluster_serendipity['userId'].unique())"
   ]
  },
  {
   "cell_type": "code",
   "execution_count": 33,
   "metadata": {},
   "outputs": [],
   "source": [
    "eval_serendipity.to_csv('../output/exp-3/'+dataset_name+'/user_serendipity3.csv', index=False)"
   ]
  },
  {
   "cell_type": "markdown",
   "metadata": {},
   "source": [
    "### 2.6 Infer embeddings\n",
    "\n",
    "With `infer_embedding` method of LightGCN model, we can export the embeddings of users and items in the training set to CSV files for future use."
   ]
  },
  {
   "cell_type": "code",
   "execution_count": 34,
   "metadata": {},
   "outputs": [],
   "source": [
    "model.infer_embedding(user_file, item_file)"
   ]
  },
  {
   "cell_type": "markdown",
   "metadata": {},
   "source": [
    "## 3. Compare LightGCN with SAR and NCF\n",
    "\n",
    "Here there are the performances of LightGCN compared to [SAR](../00_quick_start/sar_movielens.ipynb) and [NCF](../00_quick_start/ncf_movielens.ipynb) on MovieLens dataset of 100k and 1m. The method of data loading and splitting is the same as that described above and the GPU used was a GeForce GTX 1080Ti.\n",
    "\n",
    "Settings common to the three models: `epochs=15, seed=42`.\n",
    "\n",
    "Settings for LightGCN: `embed_size=64, n_layers=3, batch_size=1024, decay=0.0001, learning_rate=0.015 `.\n",
    "\n",
    "Settings for SAR: `similarity_type=\"jaccard\", time_decay_coefficient=30, time_now=None, timedecay_formula=True`.\n",
    "\n",
    "Settings for NCF: `n_factors=4, layer_sizes=[16, 8, 4], batch_size=1024, learning_rate=0.001`.\n",
    "\n",
    "| Data Size | Model    | Training time | Recommending time | MAP@10   | nDCG@10  | Precision@10 | Recall@10 |\n",
    "| --------- | -------- | ------------- | ----------------- | -------- | -------- | ------------ | --------- |\n",
    "| 100k      | LightGCN | 27.8865       | 0.6445            | 0.129236 | 0.436297 | 0.381866     | 0.205816  |\n",
    "| 100k      | SAR      | 0.4895        | 0.1144            | 0.110591 | 0.382461 | 0.330753     | 0.176385  |\n",
    "| 100k      | NCF      | 116.3174      | 7.7660            | 0.105725 | 0.387603 | 0.342100     | 0.174580  |\n",
    "| 1m        | LightGCN | 396.7298      | 1.4343            | 0.075012 | 0.377501 | 0.345679     | 0.128096  |\n",
    "| 1m        | SAR      | 4.5593        | 2.8357            | 0.060579 | 0.299245 | 0.270116     | 0.104350  |\n",
    "| 1m        | NCF      | 1601.5846     | 85.4567           | 0.062821 | 0.348770 | 0.320613     | 0.108121  |\n",
    "\n",
    "From the above results, we can see that LightGCN performs better than the other two models."
   ]
  },
  {
   "cell_type": "markdown",
   "metadata": {},
   "source": [
    "### References: \n",
    "1. Xiangnan He, Kuan Deng, Xiang Wang, Yan Li, Yongdong Zhang & Meng Wang, LightGCN: Simplifying and Powering Graph Convolution Network for Recommendation, 2020, https://arxiv.org/abs/2002.02126\n",
    "2. LightGCN implementation [TensorFlow]: https://github.com/kuandeng/lightgcn\n",
    "3. Thomas N. Kipf and Max Welling, Semi-Supervised Classification with Graph Convolutional Networks, ICLR, 2017, https://arxiv.org/abs/1609.02907\n",
    "4. Xiang Wang, Xiangnan He, Meng Wang, Fuli Feng, and Tat-Seng Chua, Neural Graph Collaborative Filtering, SIGIR, 2019, https://arxiv.org/abs/1905.08108\n",
    "5. Y. Koren, R. Bell and C. Volinsky, \"Matrix Factorization Techniques for Recommender Systems\", in Computer, vol. 42, no. 8, pp. 30-37, Aug. 2009, doi: 10.1109/MC.2009.263.  url: https://datajobs.com/data-science-repo/Recommender-Systems-%5BNetflix%5D.pdf"
   ]
  },
  {
   "cell_type": "markdown",
   "metadata": {},
   "source": [
    "### Group Validation on System Metrics\n",
    "Step 1: Clustering is already done\n",
    "Step 2: All predictions file\n",
    "Step 3: generating the values not done as well"
   ]
  },
  {
   "cell_type": "code",
   "execution_count": 35,
   "metadata": {},
   "outputs": [],
   "source": [
    "# Let's generate the all_predictions file using lightGCN\n",
    "\n",
    "import sys\n",
    "import os\n",
    "import surprise\n",
    "import papermill as pm\n",
    "import scrapbook as sb\n",
    "import pandas as pd\n",
    "from surprise import Dataset, Reader\n",
    "from joblib import Parallel, delayed\n",
    "from timeit import default_timer as timer\n",
    "#import dask.dataframe as dd\n",
    "#from dask.distributed import Client\n",
    "from contextlib import contextmanager\n",
    "\n",
    "from recommenders.utils.timer import Timer\n",
    "# from recommenders.datasets import movielens -- I commented this line because it gave errors on the library; and its not used // error: module pandera has no attribute 'SchemasModel'\n",
    "from recommenders.datasets.python_splitters import python_random_split\n",
    "from recommenders.evaluation.python_evaluation import (rmse, mae, rsquared, exp_var, map_at_k, ndcg_at_k, precision_at_k, \n",
    "                                                     recall_at_k, get_top_k_items)\n",
    "from recommenders.models.surprise.surprise_utils import predict, compute_ranking_predictions"
   ]
  },
  {
   "cell_type": "code",
   "execution_count": 36,
   "metadata": {},
   "outputs": [],
   "source": [
    "# model.predict(test_data, usercol='userId', itemcol='movieId')\n",
    "#predictions = model.predict(test, usercol='userId', itemcol='movieId')\n",
    "#predictions.head()"
   ]
  },
  {
   "cell_type": "code",
   "execution_count": 37,
   "metadata": {},
   "outputs": [
    {
     "data": {
      "text/html": [
       "<div>\n",
       "<style scoped>\n",
       "    .dataframe tbody tr th:only-of-type {\n",
       "        vertical-align: middle;\n",
       "    }\n",
       "\n",
       "    .dataframe tbody tr th {\n",
       "        vertical-align: top;\n",
       "    }\n",
       "\n",
       "    .dataframe thead th {\n",
       "        text-align: right;\n",
       "    }\n",
       "</style>\n",
       "<table border=\"1\" class=\"dataframe\">\n",
       "  <thead>\n",
       "    <tr style=\"text-align: right;\">\n",
       "      <th></th>\n",
       "      <th>userID</th>\n",
       "      <th>itemID</th>\n",
       "      <th>rating</th>\n",
       "      <th>timestamp</th>\n",
       "      <th>genres_bin</th>\n",
       "      <th>isNoisy</th>\n",
       "      <th>random</th>\n",
       "    </tr>\n",
       "  </thead>\n",
       "  <tbody>\n",
       "    <tr>\n",
       "      <th>0</th>\n",
       "      <td>107576</td>\n",
       "      <td>3253</td>\n",
       "      <td>4.5</td>\n",
       "      <td>1544828239</td>\n",
       "      <td>69793636673</td>\n",
       "      <td>0</td>\n",
       "      <td>0.374540</td>\n",
       "    </tr>\n",
       "    <tr>\n",
       "      <th>1</th>\n",
       "      <td>116343</td>\n",
       "      <td>741</td>\n",
       "      <td>3.0</td>\n",
       "      <td>1106870586</td>\n",
       "      <td>221463938504</td>\n",
       "      <td>0</td>\n",
       "      <td>0.950714</td>\n",
       "    </tr>\n",
       "    <tr>\n",
       "      <th>2</th>\n",
       "      <td>87441</td>\n",
       "      <td>18</td>\n",
       "      <td>4.0</td>\n",
       "      <td>1496483617</td>\n",
       "      <td>69793636673</td>\n",
       "      <td>0</td>\n",
       "      <td>0.731994</td>\n",
       "    </tr>\n",
       "    <tr>\n",
       "      <th>3</th>\n",
       "      <td>92046</td>\n",
       "      <td>4378</td>\n",
       "      <td>4.0</td>\n",
       "      <td>1016643855</td>\n",
       "      <td>216359445792</td>\n",
       "      <td>0</td>\n",
       "      <td>0.598658</td>\n",
       "    </tr>\n",
       "    <tr>\n",
       "      <th>4</th>\n",
       "      <td>137299</td>\n",
       "      <td>94896</td>\n",
       "      <td>4.0</td>\n",
       "      <td>1489231026</td>\n",
       "      <td>216359462241</td>\n",
       "      <td>0</td>\n",
       "      <td>0.156019</td>\n",
       "    </tr>\n",
       "  </tbody>\n",
       "</table>\n",
       "</div>"
      ],
      "text/plain": [
       "   userID  itemID  rating   timestamp    genres_bin  isNoisy    random\n",
       "0  107576    3253     4.5  1544828239   69793636673        0  0.374540\n",
       "1  116343     741     3.0  1106870586  221463938504        0  0.950714\n",
       "2   87441      18     4.0  1496483617   69793636673        0  0.731994\n",
       "3   92046    4378     4.0  1016643855  216359445792        0  0.598658\n",
       "4  137299   94896     4.0  1489231026  216359462241        0  0.156019"
      ]
     },
     "execution_count": 37,
     "metadata": {},
     "output_type": "execute_result"
    }
   ],
   "source": [
    "df.head()"
   ]
  },
  {
   "cell_type": "code",
   "execution_count": 38,
   "metadata": {},
   "outputs": [
    {
     "data": {
      "text/html": [
       "<div>\n",
       "<style scoped>\n",
       "    .dataframe tbody tr th:only-of-type {\n",
       "        vertical-align: middle;\n",
       "    }\n",
       "\n",
       "    .dataframe tbody tr th {\n",
       "        vertical-align: top;\n",
       "    }\n",
       "\n",
       "    .dataframe thead th {\n",
       "        text-align: right;\n",
       "    }\n",
       "</style>\n",
       "<table border=\"1\" class=\"dataframe\">\n",
       "  <thead>\n",
       "    <tr style=\"text-align: right;\">\n",
       "      <th></th>\n",
       "      <th>userID</th>\n",
       "      <th>itemID</th>\n",
       "      <th>rating</th>\n",
       "      <th>timestamp</th>\n",
       "    </tr>\n",
       "  </thead>\n",
       "  <tbody>\n",
       "    <tr>\n",
       "      <th>0</th>\n",
       "      <td>107</td>\n",
       "      <td>2579</td>\n",
       "      <td>3.0</td>\n",
       "      <td>1120911156</td>\n",
       "    </tr>\n",
       "    <tr>\n",
       "      <th>1</th>\n",
       "      <td>107</td>\n",
       "      <td>8970</td>\n",
       "      <td>5.0</td>\n",
       "      <td>1112452270</td>\n",
       "    </tr>\n",
       "    <tr>\n",
       "      <th>2</th>\n",
       "      <td>107</td>\n",
       "      <td>337</td>\n",
       "      <td>3.5</td>\n",
       "      <td>1116042439</td>\n",
       "    </tr>\n",
       "    <tr>\n",
       "      <th>3</th>\n",
       "      <td>107</td>\n",
       "      <td>42004</td>\n",
       "      <td>3.5</td>\n",
       "      <td>1162221330</td>\n",
       "    </tr>\n",
       "    <tr>\n",
       "      <th>4</th>\n",
       "      <td>107</td>\n",
       "      <td>2677</td>\n",
       "      <td>4.0</td>\n",
       "      <td>1146426915</td>\n",
       "    </tr>\n",
       "  </tbody>\n",
       "</table>\n",
       "</div>"
      ],
      "text/plain": [
       "   userID  itemID  rating   timestamp\n",
       "0     107    2579     3.0  1120911156\n",
       "1     107    8970     5.0  1112452270\n",
       "2     107     337     3.5  1116042439\n",
       "3     107   42004     3.5  1162221330\n",
       "4     107    2677     4.0  1146426915"
      ]
     },
     "execution_count": 38,
     "metadata": {},
     "output_type": "execute_result"
    }
   ],
   "source": [
    "train.head()"
   ]
  },
  {
   "cell_type": "code",
   "execution_count": 39,
   "metadata": {},
   "outputs": [
    {
     "name": "stdout",
     "output_type": "stream",
     "text": [
      "      userId  cluster_shc  group_clusters\n",
      "0        107     0.666695              16\n",
      "1        120     0.667395              15\n",
      "2        125     0.667716              12\n",
      "3        177     0.670654              16\n",
      "4        318     0.678580              12\n",
      "...      ...          ...             ...\n",
      "5619  162375     0.682684               1\n",
      "5620  162380     0.682345               9\n",
      "5621  162447     0.678252              16\n",
      "5622  162476     0.676434              16\n",
      "5623  162488     0.675700               9\n",
      "\n",
      "[5624 rows x 3 columns]\n"
     ]
    }
   ],
   "source": [
    "clustered_df = clusters\n",
    "print(clustered_df)\n",
    "# group clusters into another dataframe with different representation\n",
    "grouped_clusters = clustered_df.groupby('group_clusters')['userId'].apply(list).reset_index(name='users_list')\n",
    "grouped_clusters['users_per_cluster'] = grouped_clusters.apply(lambda x: list(set(x.users_list)), axis=1)\n",
    "grouped_clusters = grouped_clusters[['group_clusters', 'users_per_cluster']]"
   ]
  },
  {
   "cell_type": "code",
   "execution_count": 40,
   "metadata": {},
   "outputs": [
    {
     "data": {
      "text/html": [
       "<div>\n",
       "<style scoped>\n",
       "    .dataframe tbody tr th:only-of-type {\n",
       "        vertical-align: middle;\n",
       "    }\n",
       "\n",
       "    .dataframe tbody tr th {\n",
       "        vertical-align: top;\n",
       "    }\n",
       "\n",
       "    .dataframe thead th {\n",
       "        text-align: right;\n",
       "    }\n",
       "</style>\n",
       "<table border=\"1\" class=\"dataframe\">\n",
       "  <thead>\n",
       "    <tr style=\"text-align: right;\">\n",
       "      <th></th>\n",
       "      <th>group_clusters</th>\n",
       "      <th>users_per_cluster</th>\n",
       "    </tr>\n",
       "  </thead>\n",
       "  <tbody>\n",
       "    <tr>\n",
       "      <th>0</th>\n",
       "      <td>0</td>\n",
       "      <td>[89091, 126477, 86031, 65554, 68114, 72210, 18...</td>\n",
       "    </tr>\n",
       "    <tr>\n",
       "      <th>1</th>\n",
       "      <td>1</td>\n",
       "      <td>[22529, 8208, 77842, 124948, 153621, 38935, 28...</td>\n",
       "    </tr>\n",
       "    <tr>\n",
       "      <th>2</th>\n",
       "      <td>2</td>\n",
       "      <td>[25857]</td>\n",
       "    </tr>\n",
       "    <tr>\n",
       "      <th>3</th>\n",
       "      <td>3</td>\n",
       "      <td>[30820]</td>\n",
       "    </tr>\n",
       "    <tr>\n",
       "      <th>4</th>\n",
       "      <td>4</td>\n",
       "      <td>[103199]</td>\n",
       "    </tr>\n",
       "    <tr>\n",
       "      <th>5</th>\n",
       "      <td>5</td>\n",
       "      <td>[6118, 152107, 92046, 32855, 150333, 30111]</td>\n",
       "    </tr>\n",
       "    <tr>\n",
       "      <th>6</th>\n",
       "      <td>6</td>\n",
       "      <td>[108989]</td>\n",
       "    </tr>\n",
       "    <tr>\n",
       "      <th>7</th>\n",
       "      <td>7</td>\n",
       "      <td>[94154]</td>\n",
       "    </tr>\n",
       "    <tr>\n",
       "      <th>8</th>\n",
       "      <td>8</td>\n",
       "      <td>[79293]</td>\n",
       "    </tr>\n",
       "    <tr>\n",
       "      <th>9</th>\n",
       "      <td>9</td>\n",
       "      <td>[10242, 34819, 77828, 90115, 151558, 22535, 10...</td>\n",
       "    </tr>\n",
       "    <tr>\n",
       "      <th>10</th>\n",
       "      <td>10</td>\n",
       "      <td>[141938]</td>\n",
       "    </tr>\n",
       "    <tr>\n",
       "      <th>11</th>\n",
       "      <td>11</td>\n",
       "      <td>[106498, 133122, 65542, 122899, 43029, 96278, ...</td>\n",
       "    </tr>\n",
       "    <tr>\n",
       "      <th>12</th>\n",
       "      <td>12</td>\n",
       "      <td>[110592, 65538, 149515, 57356, 43023, 49167, 5...</td>\n",
       "    </tr>\n",
       "    <tr>\n",
       "      <th>13</th>\n",
       "      <td>13</td>\n",
       "      <td>[55607]</td>\n",
       "    </tr>\n",
       "    <tr>\n",
       "      <th>14</th>\n",
       "      <td>14</td>\n",
       "      <td>[45175]</td>\n",
       "    </tr>\n",
       "    <tr>\n",
       "      <th>15</th>\n",
       "      <td>15</td>\n",
       "      <td>[51200, 52736, 87556, 27141, 90123, 14863, 440...</td>\n",
       "    </tr>\n",
       "    <tr>\n",
       "      <th>16</th>\n",
       "      <td>16</td>\n",
       "      <td>[122881, 106500, 131083, 65555, 16410, 65563, ...</td>\n",
       "    </tr>\n",
       "    <tr>\n",
       "      <th>17</th>\n",
       "      <td>17</td>\n",
       "      <td>[29021]</td>\n",
       "    </tr>\n",
       "    <tr>\n",
       "      <th>18</th>\n",
       "      <td>18</td>\n",
       "      <td>[10397]</td>\n",
       "    </tr>\n",
       "    <tr>\n",
       "      <th>19</th>\n",
       "      <td>19</td>\n",
       "      <td>[48453]</td>\n",
       "    </tr>\n",
       "  </tbody>\n",
       "</table>\n",
       "</div>"
      ],
      "text/plain": [
       "    group_clusters                                  users_per_cluster\n",
       "0                0  [89091, 126477, 86031, 65554, 68114, 72210, 18...\n",
       "1                1  [22529, 8208, 77842, 124948, 153621, 38935, 28...\n",
       "2                2                                            [25857]\n",
       "3                3                                            [30820]\n",
       "4                4                                           [103199]\n",
       "5                5        [6118, 152107, 92046, 32855, 150333, 30111]\n",
       "6                6                                           [108989]\n",
       "7                7                                            [94154]\n",
       "8                8                                            [79293]\n",
       "9                9  [10242, 34819, 77828, 90115, 151558, 22535, 10...\n",
       "10              10                                           [141938]\n",
       "11              11  [106498, 133122, 65542, 122899, 43029, 96278, ...\n",
       "12              12  [110592, 65538, 149515, 57356, 43023, 49167, 5...\n",
       "13              13                                            [55607]\n",
       "14              14                                            [45175]\n",
       "15              15  [51200, 52736, 87556, 27141, 90123, 14863, 440...\n",
       "16              16  [122881, 106500, 131083, 65555, 16410, 65563, ...\n",
       "17              17                                            [29021]\n",
       "18              18                                            [10397]\n",
       "19              19                                            [48453]"
      ]
     },
     "execution_count": 40,
     "metadata": {},
     "output_type": "execute_result"
    }
   ],
   "source": [
    "grouped_clusters"
   ]
  },
  {
   "cell_type": "code",
   "execution_count": 41,
   "metadata": {},
   "outputs": [
    {
     "name": "stdout",
     "output_type": "stream",
     "text": [
      "n_cluster_users143\n"
     ]
    },
    {
     "name": "stderr",
     "output_type": "stream",
     "text": [
      "C:\\Users\\clari\\Desktop\\M2 - Thesis\\Research\\Dr Jacques Bou Abdo\\Recommender System\\5 - Ensemble Learning Model\\Accuracy Metrics\\serendipity-main\\venv\\lib\\site-packages\\recommenders\\evaluation\\python_evaluation.py:438: FutureWarning: Passing a dictionary to SeriesGroupBy.agg is deprecated and will raise in a future version of pandas. Pass a list of aggregations instead.\n",
      "  df_hit.groupby(col_user, as_index=False)[col_user].agg({\"hit\": \"count\"}),\n",
      "C:\\Users\\clari\\Desktop\\M2 - Thesis\\Research\\Dr Jacques Bou Abdo\\Recommender System\\5 - Ensemble Learning Model\\Accuracy Metrics\\serendipity-main\\venv\\lib\\site-packages\\recommenders\\evaluation\\python_evaluation.py:439: FutureWarning: Passing a dictionary to SeriesGroupBy.agg is deprecated and will raise in a future version of pandas. Pass a list of aggregations instead.\n",
      "  rating_true_common.groupby(col_user, as_index=False)[col_user].agg(\n"
     ]
    },
    {
     "name": "stdout",
     "output_type": "stream",
     "text": [
      "n_cluster_users916\n"
     ]
    },
    {
     "name": "stderr",
     "output_type": "stream",
     "text": [
      "C:\\Users\\clari\\Desktop\\M2 - Thesis\\Research\\Dr Jacques Bou Abdo\\Recommender System\\5 - Ensemble Learning Model\\Accuracy Metrics\\serendipity-main\\venv\\lib\\site-packages\\recommenders\\evaluation\\python_evaluation.py:438: FutureWarning: Passing a dictionary to SeriesGroupBy.agg is deprecated and will raise in a future version of pandas. Pass a list of aggregations instead.\n",
      "  df_hit.groupby(col_user, as_index=False)[col_user].agg({\"hit\": \"count\"}),\n",
      "C:\\Users\\clari\\Desktop\\M2 - Thesis\\Research\\Dr Jacques Bou Abdo\\Recommender System\\5 - Ensemble Learning Model\\Accuracy Metrics\\serendipity-main\\venv\\lib\\site-packages\\recommenders\\evaluation\\python_evaluation.py:439: FutureWarning: Passing a dictionary to SeriesGroupBy.agg is deprecated and will raise in a future version of pandas. Pass a list of aggregations instead.\n",
      "  rating_true_common.groupby(col_user, as_index=False)[col_user].agg(\n"
     ]
    },
    {
     "name": "stdout",
     "output_type": "stream",
     "text": [
      "n_cluster_users1\n",
      "n_cluster_users1\n"
     ]
    },
    {
     "name": "stderr",
     "output_type": "stream",
     "text": [
      "C:\\Users\\clari\\Desktop\\M2 - Thesis\\Research\\Dr Jacques Bou Abdo\\Recommender System\\5 - Ensemble Learning Model\\Accuracy Metrics\\serendipity-main\\venv\\lib\\site-packages\\recommenders\\evaluation\\python_evaluation.py:438: FutureWarning: Passing a dictionary to SeriesGroupBy.agg is deprecated and will raise in a future version of pandas. Pass a list of aggregations instead.\n",
      "  df_hit.groupby(col_user, as_index=False)[col_user].agg({\"hit\": \"count\"}),\n",
      "C:\\Users\\clari\\Desktop\\M2 - Thesis\\Research\\Dr Jacques Bou Abdo\\Recommender System\\5 - Ensemble Learning Model\\Accuracy Metrics\\serendipity-main\\venv\\lib\\site-packages\\recommenders\\evaluation\\python_evaluation.py:439: FutureWarning: Passing a dictionary to SeriesGroupBy.agg is deprecated and will raise in a future version of pandas. Pass a list of aggregations instead.\n",
      "  rating_true_common.groupby(col_user, as_index=False)[col_user].agg(\n",
      "C:\\Users\\clari\\Desktop\\M2 - Thesis\\Research\\Dr Jacques Bou Abdo\\Recommender System\\5 - Ensemble Learning Model\\Accuracy Metrics\\serendipity-main\\venv\\lib\\site-packages\\recommenders\\evaluation\\python_evaluation.py:438: FutureWarning: Passing a dictionary to SeriesGroupBy.agg is deprecated and will raise in a future version of pandas. Pass a list of aggregations instead.\n",
      "  df_hit.groupby(col_user, as_index=False)[col_user].agg({\"hit\": \"count\"}),\n",
      "C:\\Users\\clari\\Desktop\\M2 - Thesis\\Research\\Dr Jacques Bou Abdo\\Recommender System\\5 - Ensemble Learning Model\\Accuracy Metrics\\serendipity-main\\venv\\lib\\site-packages\\recommenders\\evaluation\\python_evaluation.py:439: FutureWarning: Passing a dictionary to SeriesGroupBy.agg is deprecated and will raise in a future version of pandas. Pass a list of aggregations instead.\n",
      "  rating_true_common.groupby(col_user, as_index=False)[col_user].agg(\n"
     ]
    },
    {
     "name": "stdout",
     "output_type": "stream",
     "text": [
      "n_cluster_users1\n",
      "n_cluster_users6\n"
     ]
    },
    {
     "name": "stderr",
     "output_type": "stream",
     "text": [
      "C:\\Users\\clari\\Desktop\\M2 - Thesis\\Research\\Dr Jacques Bou Abdo\\Recommender System\\5 - Ensemble Learning Model\\Accuracy Metrics\\serendipity-main\\venv\\lib\\site-packages\\recommenders\\evaluation\\python_evaluation.py:438: FutureWarning: Passing a dictionary to SeriesGroupBy.agg is deprecated and will raise in a future version of pandas. Pass a list of aggregations instead.\n",
      "  df_hit.groupby(col_user, as_index=False)[col_user].agg({\"hit\": \"count\"}),\n",
      "C:\\Users\\clari\\Desktop\\M2 - Thesis\\Research\\Dr Jacques Bou Abdo\\Recommender System\\5 - Ensemble Learning Model\\Accuracy Metrics\\serendipity-main\\venv\\lib\\site-packages\\recommenders\\evaluation\\python_evaluation.py:439: FutureWarning: Passing a dictionary to SeriesGroupBy.agg is deprecated and will raise in a future version of pandas. Pass a list of aggregations instead.\n",
      "  rating_true_common.groupby(col_user, as_index=False)[col_user].agg(\n",
      "C:\\Users\\clari\\Desktop\\M2 - Thesis\\Research\\Dr Jacques Bou Abdo\\Recommender System\\5 - Ensemble Learning Model\\Accuracy Metrics\\serendipity-main\\venv\\lib\\site-packages\\recommenders\\evaluation\\python_evaluation.py:438: FutureWarning: Passing a dictionary to SeriesGroupBy.agg is deprecated and will raise in a future version of pandas. Pass a list of aggregations instead.\n",
      "  df_hit.groupby(col_user, as_index=False)[col_user].agg({\"hit\": \"count\"}),\n",
      "C:\\Users\\clari\\Desktop\\M2 - Thesis\\Research\\Dr Jacques Bou Abdo\\Recommender System\\5 - Ensemble Learning Model\\Accuracy Metrics\\serendipity-main\\venv\\lib\\site-packages\\recommenders\\evaluation\\python_evaluation.py:439: FutureWarning: Passing a dictionary to SeriesGroupBy.agg is deprecated and will raise in a future version of pandas. Pass a list of aggregations instead.\n",
      "  rating_true_common.groupby(col_user, as_index=False)[col_user].agg(\n"
     ]
    },
    {
     "name": "stdout",
     "output_type": "stream",
     "text": [
      "n_cluster_users1\n",
      "n_cluster_users1\n"
     ]
    },
    {
     "name": "stderr",
     "output_type": "stream",
     "text": [
      "C:\\Users\\clari\\Desktop\\M2 - Thesis\\Research\\Dr Jacques Bou Abdo\\Recommender System\\5 - Ensemble Learning Model\\Accuracy Metrics\\serendipity-main\\venv\\lib\\site-packages\\recommenders\\evaluation\\python_evaluation.py:438: FutureWarning: Passing a dictionary to SeriesGroupBy.agg is deprecated and will raise in a future version of pandas. Pass a list of aggregations instead.\n",
      "  df_hit.groupby(col_user, as_index=False)[col_user].agg({\"hit\": \"count\"}),\n",
      "C:\\Users\\clari\\Desktop\\M2 - Thesis\\Research\\Dr Jacques Bou Abdo\\Recommender System\\5 - Ensemble Learning Model\\Accuracy Metrics\\serendipity-main\\venv\\lib\\site-packages\\recommenders\\evaluation\\python_evaluation.py:439: FutureWarning: Passing a dictionary to SeriesGroupBy.agg is deprecated and will raise in a future version of pandas. Pass a list of aggregations instead.\n",
      "  rating_true_common.groupby(col_user, as_index=False)[col_user].agg(\n",
      "C:\\Users\\clari\\Desktop\\M2 - Thesis\\Research\\Dr Jacques Bou Abdo\\Recommender System\\5 - Ensemble Learning Model\\Accuracy Metrics\\serendipity-main\\venv\\lib\\site-packages\\recommenders\\evaluation\\python_evaluation.py:438: FutureWarning: Passing a dictionary to SeriesGroupBy.agg is deprecated and will raise in a future version of pandas. Pass a list of aggregations instead.\n",
      "  df_hit.groupby(col_user, as_index=False)[col_user].agg({\"hit\": \"count\"}),\n",
      "C:\\Users\\clari\\Desktop\\M2 - Thesis\\Research\\Dr Jacques Bou Abdo\\Recommender System\\5 - Ensemble Learning Model\\Accuracy Metrics\\serendipity-main\\venv\\lib\\site-packages\\recommenders\\evaluation\\python_evaluation.py:439: FutureWarning: Passing a dictionary to SeriesGroupBy.agg is deprecated and will raise in a future version of pandas. Pass a list of aggregations instead.\n",
      "  rating_true_common.groupby(col_user, as_index=False)[col_user].agg(\n"
     ]
    },
    {
     "name": "stdout",
     "output_type": "stream",
     "text": [
      "n_cluster_users1\n",
      "n_cluster_users951\n"
     ]
    },
    {
     "name": "stderr",
     "output_type": "stream",
     "text": [
      "C:\\Users\\clari\\Desktop\\M2 - Thesis\\Research\\Dr Jacques Bou Abdo\\Recommender System\\5 - Ensemble Learning Model\\Accuracy Metrics\\serendipity-main\\venv\\lib\\site-packages\\recommenders\\evaluation\\python_evaluation.py:438: FutureWarning: Passing a dictionary to SeriesGroupBy.agg is deprecated and will raise in a future version of pandas. Pass a list of aggregations instead.\n",
      "  df_hit.groupby(col_user, as_index=False)[col_user].agg({\"hit\": \"count\"}),\n",
      "C:\\Users\\clari\\Desktop\\M2 - Thesis\\Research\\Dr Jacques Bou Abdo\\Recommender System\\5 - Ensemble Learning Model\\Accuracy Metrics\\serendipity-main\\venv\\lib\\site-packages\\recommenders\\evaluation\\python_evaluation.py:439: FutureWarning: Passing a dictionary to SeriesGroupBy.agg is deprecated and will raise in a future version of pandas. Pass a list of aggregations instead.\n",
      "  rating_true_common.groupby(col_user, as_index=False)[col_user].agg(\n",
      "C:\\Users\\clari\\Desktop\\M2 - Thesis\\Research\\Dr Jacques Bou Abdo\\Recommender System\\5 - Ensemble Learning Model\\Accuracy Metrics\\serendipity-main\\venv\\lib\\site-packages\\recommenders\\evaluation\\python_evaluation.py:438: FutureWarning: Passing a dictionary to SeriesGroupBy.agg is deprecated and will raise in a future version of pandas. Pass a list of aggregations instead.\n",
      "  df_hit.groupby(col_user, as_index=False)[col_user].agg({\"hit\": \"count\"}),\n",
      "C:\\Users\\clari\\Desktop\\M2 - Thesis\\Research\\Dr Jacques Bou Abdo\\Recommender System\\5 - Ensemble Learning Model\\Accuracy Metrics\\serendipity-main\\venv\\lib\\site-packages\\recommenders\\evaluation\\python_evaluation.py:439: FutureWarning: Passing a dictionary to SeriesGroupBy.agg is deprecated and will raise in a future version of pandas. Pass a list of aggregations instead.\n",
      "  rating_true_common.groupby(col_user, as_index=False)[col_user].agg(\n"
     ]
    },
    {
     "name": "stdout",
     "output_type": "stream",
     "text": [
      "n_cluster_users1\n",
      "n_cluster_users777\n"
     ]
    },
    {
     "name": "stderr",
     "output_type": "stream",
     "text": [
      "C:\\Users\\clari\\Desktop\\M2 - Thesis\\Research\\Dr Jacques Bou Abdo\\Recommender System\\5 - Ensemble Learning Model\\Accuracy Metrics\\serendipity-main\\venv\\lib\\site-packages\\recommenders\\evaluation\\python_evaluation.py:438: FutureWarning: Passing a dictionary to SeriesGroupBy.agg is deprecated and will raise in a future version of pandas. Pass a list of aggregations instead.\n",
      "  df_hit.groupby(col_user, as_index=False)[col_user].agg({\"hit\": \"count\"}),\n",
      "C:\\Users\\clari\\Desktop\\M2 - Thesis\\Research\\Dr Jacques Bou Abdo\\Recommender System\\5 - Ensemble Learning Model\\Accuracy Metrics\\serendipity-main\\venv\\lib\\site-packages\\recommenders\\evaluation\\python_evaluation.py:439: FutureWarning: Passing a dictionary to SeriesGroupBy.agg is deprecated and will raise in a future version of pandas. Pass a list of aggregations instead.\n",
      "  rating_true_common.groupby(col_user, as_index=False)[col_user].agg(\n",
      "C:\\Users\\clari\\Desktop\\M2 - Thesis\\Research\\Dr Jacques Bou Abdo\\Recommender System\\5 - Ensemble Learning Model\\Accuracy Metrics\\serendipity-main\\venv\\lib\\site-packages\\recommenders\\evaluation\\python_evaluation.py:438: FutureWarning: Passing a dictionary to SeriesGroupBy.agg is deprecated and will raise in a future version of pandas. Pass a list of aggregations instead.\n",
      "  df_hit.groupby(col_user, as_index=False)[col_user].agg({\"hit\": \"count\"}),\n",
      "C:\\Users\\clari\\Desktop\\M2 - Thesis\\Research\\Dr Jacques Bou Abdo\\Recommender System\\5 - Ensemble Learning Model\\Accuracy Metrics\\serendipity-main\\venv\\lib\\site-packages\\recommenders\\evaluation\\python_evaluation.py:439: FutureWarning: Passing a dictionary to SeriesGroupBy.agg is deprecated and will raise in a future version of pandas. Pass a list of aggregations instead.\n",
      "  rating_true_common.groupby(col_user, as_index=False)[col_user].agg(\n"
     ]
    },
    {
     "name": "stdout",
     "output_type": "stream",
     "text": [
      "n_cluster_users885\n"
     ]
    },
    {
     "name": "stderr",
     "output_type": "stream",
     "text": [
      "C:\\Users\\clari\\Desktop\\M2 - Thesis\\Research\\Dr Jacques Bou Abdo\\Recommender System\\5 - Ensemble Learning Model\\Accuracy Metrics\\serendipity-main\\venv\\lib\\site-packages\\recommenders\\evaluation\\python_evaluation.py:438: FutureWarning: Passing a dictionary to SeriesGroupBy.agg is deprecated and will raise in a future version of pandas. Pass a list of aggregations instead.\n",
      "  df_hit.groupby(col_user, as_index=False)[col_user].agg({\"hit\": \"count\"}),\n",
      "C:\\Users\\clari\\Desktop\\M2 - Thesis\\Research\\Dr Jacques Bou Abdo\\Recommender System\\5 - Ensemble Learning Model\\Accuracy Metrics\\serendipity-main\\venv\\lib\\site-packages\\recommenders\\evaluation\\python_evaluation.py:439: FutureWarning: Passing a dictionary to SeriesGroupBy.agg is deprecated and will raise in a future version of pandas. Pass a list of aggregations instead.\n",
      "  rating_true_common.groupby(col_user, as_index=False)[col_user].agg(\n"
     ]
    },
    {
     "name": "stdout",
     "output_type": "stream",
     "text": [
      "n_cluster_users1\n",
      "n_cluster_users1\n"
     ]
    },
    {
     "name": "stderr",
     "output_type": "stream",
     "text": [
      "C:\\Users\\clari\\Desktop\\M2 - Thesis\\Research\\Dr Jacques Bou Abdo\\Recommender System\\5 - Ensemble Learning Model\\Accuracy Metrics\\serendipity-main\\venv\\lib\\site-packages\\recommenders\\evaluation\\python_evaluation.py:438: FutureWarning: Passing a dictionary to SeriesGroupBy.agg is deprecated and will raise in a future version of pandas. Pass a list of aggregations instead.\n",
      "  df_hit.groupby(col_user, as_index=False)[col_user].agg({\"hit\": \"count\"}),\n",
      "C:\\Users\\clari\\Desktop\\M2 - Thesis\\Research\\Dr Jacques Bou Abdo\\Recommender System\\5 - Ensemble Learning Model\\Accuracy Metrics\\serendipity-main\\venv\\lib\\site-packages\\recommenders\\evaluation\\python_evaluation.py:439: FutureWarning: Passing a dictionary to SeriesGroupBy.agg is deprecated and will raise in a future version of pandas. Pass a list of aggregations instead.\n",
      "  rating_true_common.groupby(col_user, as_index=False)[col_user].agg(\n",
      "C:\\Users\\clari\\Desktop\\M2 - Thesis\\Research\\Dr Jacques Bou Abdo\\Recommender System\\5 - Ensemble Learning Model\\Accuracy Metrics\\serendipity-main\\venv\\lib\\site-packages\\recommenders\\evaluation\\python_evaluation.py:438: FutureWarning: Passing a dictionary to SeriesGroupBy.agg is deprecated and will raise in a future version of pandas. Pass a list of aggregations instead.\n",
      "  df_hit.groupby(col_user, as_index=False)[col_user].agg({\"hit\": \"count\"}),\n",
      "C:\\Users\\clari\\Desktop\\M2 - Thesis\\Research\\Dr Jacques Bou Abdo\\Recommender System\\5 - Ensemble Learning Model\\Accuracy Metrics\\serendipity-main\\venv\\lib\\site-packages\\recommenders\\evaluation\\python_evaluation.py:439: FutureWarning: Passing a dictionary to SeriesGroupBy.agg is deprecated and will raise in a future version of pandas. Pass a list of aggregations instead.\n",
      "  rating_true_common.groupby(col_user, as_index=False)[col_user].agg(\n"
     ]
    },
    {
     "name": "stdout",
     "output_type": "stream",
     "text": [
      "n_cluster_users247\n"
     ]
    },
    {
     "name": "stderr",
     "output_type": "stream",
     "text": [
      "C:\\Users\\clari\\Desktop\\M2 - Thesis\\Research\\Dr Jacques Bou Abdo\\Recommender System\\5 - Ensemble Learning Model\\Accuracy Metrics\\serendipity-main\\venv\\lib\\site-packages\\recommenders\\evaluation\\python_evaluation.py:438: FutureWarning: Passing a dictionary to SeriesGroupBy.agg is deprecated and will raise in a future version of pandas. Pass a list of aggregations instead.\n",
      "  df_hit.groupby(col_user, as_index=False)[col_user].agg({\"hit\": \"count\"}),\n",
      "C:\\Users\\clari\\Desktop\\M2 - Thesis\\Research\\Dr Jacques Bou Abdo\\Recommender System\\5 - Ensemble Learning Model\\Accuracy Metrics\\serendipity-main\\venv\\lib\\site-packages\\recommenders\\evaluation\\python_evaluation.py:439: FutureWarning: Passing a dictionary to SeriesGroupBy.agg is deprecated and will raise in a future version of pandas. Pass a list of aggregations instead.\n",
      "  rating_true_common.groupby(col_user, as_index=False)[col_user].agg(\n"
     ]
    },
    {
     "name": "stdout",
     "output_type": "stream",
     "text": [
      "n_cluster_users1687\n"
     ]
    },
    {
     "name": "stderr",
     "output_type": "stream",
     "text": [
      "C:\\Users\\clari\\Desktop\\M2 - Thesis\\Research\\Dr Jacques Bou Abdo\\Recommender System\\5 - Ensemble Learning Model\\Accuracy Metrics\\serendipity-main\\venv\\lib\\site-packages\\recommenders\\evaluation\\python_evaluation.py:438: FutureWarning: Passing a dictionary to SeriesGroupBy.agg is deprecated and will raise in a future version of pandas. Pass a list of aggregations instead.\n",
      "  df_hit.groupby(col_user, as_index=False)[col_user].agg({\"hit\": \"count\"}),\n",
      "C:\\Users\\clari\\Desktop\\M2 - Thesis\\Research\\Dr Jacques Bou Abdo\\Recommender System\\5 - Ensemble Learning Model\\Accuracy Metrics\\serendipity-main\\venv\\lib\\site-packages\\recommenders\\evaluation\\python_evaluation.py:439: FutureWarning: Passing a dictionary to SeriesGroupBy.agg is deprecated and will raise in a future version of pandas. Pass a list of aggregations instead.\n",
      "  rating_true_common.groupby(col_user, as_index=False)[col_user].agg(\n"
     ]
    },
    {
     "name": "stdout",
     "output_type": "stream",
     "text": [
      "n_cluster_users1\n",
      "n_cluster_users1\n"
     ]
    },
    {
     "name": "stderr",
     "output_type": "stream",
     "text": [
      "C:\\Users\\clari\\Desktop\\M2 - Thesis\\Research\\Dr Jacques Bou Abdo\\Recommender System\\5 - Ensemble Learning Model\\Accuracy Metrics\\serendipity-main\\venv\\lib\\site-packages\\recommenders\\evaluation\\python_evaluation.py:438: FutureWarning: Passing a dictionary to SeriesGroupBy.agg is deprecated and will raise in a future version of pandas. Pass a list of aggregations instead.\n",
      "  df_hit.groupby(col_user, as_index=False)[col_user].agg({\"hit\": \"count\"}),\n",
      "C:\\Users\\clari\\Desktop\\M2 - Thesis\\Research\\Dr Jacques Bou Abdo\\Recommender System\\5 - Ensemble Learning Model\\Accuracy Metrics\\serendipity-main\\venv\\lib\\site-packages\\recommenders\\evaluation\\python_evaluation.py:439: FutureWarning: Passing a dictionary to SeriesGroupBy.agg is deprecated and will raise in a future version of pandas. Pass a list of aggregations instead.\n",
      "  rating_true_common.groupby(col_user, as_index=False)[col_user].agg(\n",
      "C:\\Users\\clari\\Desktop\\M2 - Thesis\\Research\\Dr Jacques Bou Abdo\\Recommender System\\5 - Ensemble Learning Model\\Accuracy Metrics\\serendipity-main\\venv\\lib\\site-packages\\recommenders\\evaluation\\python_evaluation.py:438: FutureWarning: Passing a dictionary to SeriesGroupBy.agg is deprecated and will raise in a future version of pandas. Pass a list of aggregations instead.\n",
      "  df_hit.groupby(col_user, as_index=False)[col_user].agg({\"hit\": \"count\"}),\n",
      "C:\\Users\\clari\\Desktop\\M2 - Thesis\\Research\\Dr Jacques Bou Abdo\\Recommender System\\5 - Ensemble Learning Model\\Accuracy Metrics\\serendipity-main\\venv\\lib\\site-packages\\recommenders\\evaluation\\python_evaluation.py:439: FutureWarning: Passing a dictionary to SeriesGroupBy.agg is deprecated and will raise in a future version of pandas. Pass a list of aggregations instead.\n",
      "  rating_true_common.groupby(col_user, as_index=False)[col_user].agg(\n"
     ]
    },
    {
     "name": "stdout",
     "output_type": "stream",
     "text": [
      "n_cluster_users1\n"
     ]
    },
    {
     "name": "stderr",
     "output_type": "stream",
     "text": [
      "C:\\Users\\clari\\Desktop\\M2 - Thesis\\Research\\Dr Jacques Bou Abdo\\Recommender System\\5 - Ensemble Learning Model\\Accuracy Metrics\\serendipity-main\\venv\\lib\\site-packages\\recommenders\\evaluation\\python_evaluation.py:438: FutureWarning: Passing a dictionary to SeriesGroupBy.agg is deprecated and will raise in a future version of pandas. Pass a list of aggregations instead.\n",
      "  df_hit.groupby(col_user, as_index=False)[col_user].agg({\"hit\": \"count\"}),\n",
      "C:\\Users\\clari\\Desktop\\M2 - Thesis\\Research\\Dr Jacques Bou Abdo\\Recommender System\\5 - Ensemble Learning Model\\Accuracy Metrics\\serendipity-main\\venv\\lib\\site-packages\\recommenders\\evaluation\\python_evaluation.py:439: FutureWarning: Passing a dictionary to SeriesGroupBy.agg is deprecated and will raise in a future version of pandas. Pass a list of aggregations instead.\n",
      "  rating_true_common.groupby(col_user, as_index=False)[col_user].agg(\n"
     ]
    }
   ],
   "source": [
    "#print(grouped_clusters)\n",
    "group_metric = {}\n",
    "all_clusters_list = grouped_clusters.users_per_cluster.to_list()\n",
    "#grouped_clusters.users_per_cluster.to_list()\n",
    "all_users = len(set(df.userID.to_list()))\n",
    "#print(all_clusters_list)\n",
    "for index, row in grouped_clusters.iterrows():\n",
    "    cluster_id = row['group_clusters']\n",
    "    users_list = row['users_per_cluster']\n",
    "    # users in the cluster vs. users in the equiv group\n",
    "    #print('clust'+users_list)\n",
    "    n_cluster_users = len(users_list)\n",
    "    print('n_cluster_users' + str(n_cluster_users))\n",
    "    n_cluster_users_equiv = all_users - n_cluster_users\n",
    "    cluster_scores = topk_scores[topk_scores['userID'].isin(users_list)]\n",
    "    \n",
    "   \n",
    "    cluster_df = df[df['userID'].isin(users_list)]\n",
    "    \n",
    "    #df_ndcg_cluster = ndcg_at_k(cluster_df, cluster_scores, k=TOP_K)\n",
    "    #df_ndcg_cluster_equiv = df_ndcg_cluster.loc[~df_ndcg_cluster['userID'].isin(cluster)]\n",
    "\n",
    "    #print(df_ndcg_cluster)\n",
    "\n",
    "    \n",
    "    # group metrics\n",
    "    cluster_ndcg = ndcg_at_k(cluster_df, topk_scores, k=TOP_K)\n",
    "    cluster_precision = precision_at_k(cluster_df, topk_scores, k=TOP_K)\n",
    "    cluster_recall = recall_at_k(cluster_df, topk_scores, k=TOP_K)\n",
    "\n",
    "    # group equiv. metrics\n",
    "    cluster_ndcg_equiv = (cluster_ndcg*n_cluster_users) / n_cluster_users_equiv\n",
    "    cluster_precision_equiv = (cluster_precision*n_cluster_users) / n_cluster_users_equiv\n",
    "    cluster_recall_equiv = (cluster_recall*n_cluster_users) / n_cluster_users_equiv\n",
    "    \n",
    "    group_metric[cluster_id] = [\n",
    "        cluster_ndcg,\n",
    "        cluster_ndcg_equiv,\n",
    "        cluster_precision,\n",
    "        cluster_precision_equiv,\n",
    "        cluster_recall,\n",
    "        cluster_recall_equiv\n",
    "    ]"
   ]
  },
  {
   "cell_type": "code",
   "execution_count": 42,
   "metadata": {},
   "outputs": [],
   "source": [
    "group_metric_df = pd.DataFrame.from_dict(group_metric, orient='index')\\\n",
    "    .reset_index()\\\n",
    "    .rename({\n",
    "        'index': 'cluster',\n",
    "        0: 'cluster-nDCG',\n",
    "        1: 'cluster-nDCG-eq',\n",
    "        2: 'cluster-precision',\n",
    "        3: 'cluster-precision-eq',\n",
    "        4: 'cluster-recall',\n",
    "        5: 'cluster-recall-eq'\n",
    "        }, axis=1)\n",
    "group_metric_df['ndcg'] = eval_ndcg\n",
    "group_metric_df['precision'] = eval_precision\n",
    "group_metric_df['recall'] = eval_recall\n",
    "\n",
    "# save results in csv\n",
    "group_metric_df.to_csv('../output/exp-3/'+dataset_name+'/gv5.csv', index=False)"
   ]
  },
  {
   "cell_type": "code",
   "execution_count": null,
   "metadata": {},
   "outputs": [],
   "source": []
  }
 ],
 "metadata": {
  "celltoolbar": "Tags",
  "interpreter": {
   "hash": "3a9a0c422ff9f08d62211b9648017c63b0a26d2c935edc37ebb8453675d13bb5"
  },
  "kernelspec": {
   "display_name": "Python 3 (ipykernel)",
   "language": "python",
   "name": "python3"
  },
  "language_info": {
   "codemirror_mode": {
    "name": "ipython",
    "version": 3
   },
   "file_extension": ".py",
   "mimetype": "text/x-python",
   "name": "python",
   "nbconvert_exporter": "python",
   "pygments_lexer": "ipython3",
   "version": "3.10.0"
  }
 },
 "nbformat": 4,
 "nbformat_minor": 4
}
