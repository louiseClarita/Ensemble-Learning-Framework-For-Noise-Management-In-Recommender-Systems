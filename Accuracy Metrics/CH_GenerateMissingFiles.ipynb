{
 "cells": [
  {
   "cell_type": "code",
   "execution_count": 1,
   "id": "a1758bca-f650-457f-a2bb-813345dc58e1",
   "metadata": {},
   "outputs": [
    {
     "data": {
      "text/plain": [
       "'C:\\\\Users\\\\clari\\\\Desktop\\\\M2 - Thesis\\\\Research\\\\Dr Jacques Bou Abdo\\\\Recommender System\\\\5 - Ensemble Learning Model\\\\Accuracy Metrics\\\\serendipity-main\\\\models\\\\lightgcn'"
      ]
     },
     "execution_count": 1,
     "metadata": {},
     "output_type": "execute_result"
    }
   ],
   "source": [
    "import os\n",
    "os.getcwd()"
   ]
  },
  {
   "cell_type": "code",
   "execution_count": 2,
   "id": "737bc8b4-f30b-4a62-b891-99fb02a4139c",
   "metadata": {},
   "outputs": [],
   "source": [
    "#dataset_name = 'framework-ml-25m-subset'\n",
    "#               ml-25m-subset(3)-#5\n",
    "dataset_name = 'framework-ml-25m-subset(3) (EL2.4)'\n",
    "#dataset_name = 'ml-25m-subset(3)-#5'\n",
    "#dataset_name = 'ml-25m-subset(3)-#2.3'\n",
    "RATINGS_PATH = '../../datasets/'+dataset_name+'/clean/ratings.csv'\n",
    "otp = 'output_CH/'\n",
    "#RATINGS_PATH = inp + dataset_name + \"\\\\clean\\\\ratings.csv\""
   ]
  },
  {
   "cell_type": "code",
   "execution_count": 3,
   "id": "4cec349e-bb5e-4aba-9b18-7c2c81e106df",
   "metadata": {},
   "outputs": [],
   "source": [
    "import pandas as pd\n",
    "import torch\n",
    "import numpy\n",
    "from torch.utils.data import DataLoader, Dataset\n",
    "from torch import nn\n",
    "\n",
    "# Define a simple LightGCN class\n",
    "class LightGCN(nn.Module):\n",
    "    def __init__(self, num_users, num_items, embedding_dim=64, num_layers=3):\n",
    "        super(LightGCN, self).__init__()\n",
    "        self.num_users = num_users\n",
    "        self.num_items = num_items\n",
    "        self.embedding_dim = embedding_dim\n",
    "        self.num_layers = num_layers\n",
    "\n",
    "        # Initialize user and item embeddings\n",
    "        self.user_embeddings = nn.Embedding(num_users, embedding_dim)\n",
    "        self.item_embeddings = nn.Embedding(num_items, embedding_dim)\n",
    "        nn.init.xavier_uniform_(self.user_embeddings.weight)\n",
    "        nn.init.xavier_uniform_(self.item_embeddings.weight)\n",
    "\n",
    "    def forward(self, user_indices, item_indices):\n",
    "        # Initial embeddings\n",
    "        user_emb = self.user_embeddings(user_indices)\n",
    "        item_emb = self.item_embeddings(item_indices)\n",
    "        return user_emb, item_emb"
   ]
  },
  {
   "cell_type": "code",
   "execution_count": 4,
   "id": "04a6d144-cfae-4b08-9f91-e7eb3e9880dd",
   "metadata": {},
   "outputs": [
    {
     "name": "stdout",
     "output_type": "stream",
     "text": [
      "634341\n"
     ]
    }
   ],
   "source": [
    "import numpy\n",
    "import pandas as pd\n",
    "\n",
    "# Load your ratings data\n",
    "ratings = pd.read_csv(RATINGS_PATH).rename(columns={'movieId':'itemId'})\n",
    "print(len(ratings))\n",
    "if '#2' in dataset_name:\n",
    "    ratings = ratings[(ratings['isNoisy'] == \"[0.]\") | (ratings['isNoisy'] == \"0\")]\n",
    "elif 'nf-1' in dataset_name:\n",
    "    #ratings =  ratings[(ratings['1&2&3&4 = 0'] == 0) & (ratings['1&2&3&4 = 1'] == 0)]\n",
    "    ratings =  ratings[(ratings['1&2&3&4 = 1'] == 0)]\n",
    "#elif ('nf1' in dataset_name) or ('nf2' in dataset_name) or ('nf3' in dataset_name) or ('nf4' in dataset_name):\n",
    "#    ratings = ratings\n",
    "elif (not 'framework' in dataset_name) & ('ml-25m-subset(3)-' in dataset_name):\n",
    "    ratings = ratings[ratings['isNoisy'] == 0]\n",
    "elif 'framework' in dataset_name:\n",
    "    ratings = ratings[ratings['layer3_result'] == 0]\n",
    "\n"
   ]
  },
  {
   "cell_type": "code",
   "execution_count": 5,
   "id": "60edaa3e-9079-4c75-ad97-908f9cadcae8",
   "metadata": {},
   "outputs": [
    {
     "name": "stdout",
     "output_type": "stream",
     "text": [
      "<class 'pandas.core.frame.DataFrame'>\n",
      "Index: 107084 entries, 15 to 634319\n",
      "Data columns (total 38 columns):\n",
      " #   Column         Non-Null Count   Dtype  \n",
      "---  ------         --------------   -----  \n",
      " 0   Unnamed: 0.2   107084 non-null  int64  \n",
      " 1   Unnamed: 0.1   107084 non-null  int64  \n",
      " 2   userId         107084 non-null  int64  \n",
      " 3   itemId         107084 non-null  int64  \n",
      " 4   rating         107084 non-null  float64\n",
      " 5   timestamp      107084 non-null  int64  \n",
      " 6   user_cat       107084 non-null  object \n",
      " 7   rating_group   107084 non-null  object \n",
      " 8   item_cat       107084 non-null  object \n",
      " 9   nf1            107084 non-null  int64  \n",
      " 10  user_group     107084 non-null  object \n",
      " 11  coherence      107084 non-null  float64\n",
      " 12  title          107084 non-null  object \n",
      " 13  genres         107084 non-null  object \n",
      " 14  RND            107084 non-null  float64\n",
      " 15  thresh         107084 non-null  float64\n",
      " 16  nf2            107084 non-null  int64  \n",
      " 17  Unnamed: 0     107084 non-null  int64  \n",
      " 18  prediction     107084 non-null  object \n",
      " 19  nf3            107084 non-null  int64  \n",
      " 20  nf4            107084 non-null  int64  \n",
      " 21  noisedegree    107084 non-null  float64\n",
      " 22  1&2            107084 non-null  int64  \n",
      " 23  1&3            107084 non-null  int64  \n",
      " 24  1&4            107084 non-null  int64  \n",
      " 25  2&3            107084 non-null  int64  \n",
      " 26  2&4            107084 non-null  int64  \n",
      " 27  3&4            107084 non-null  int64  \n",
      " 28  1&2&3          107084 non-null  int64  \n",
      " 29  2&3&4          107084 non-null  int64  \n",
      " 30  1&2&4          107084 non-null  int64  \n",
      " 31  1&3&4          107084 non-null  int64  \n",
      " 32  1&2&3&4 = 0    107084 non-null  int64  \n",
      " 33  1&2&3&4 = 1    107084 non-null  int64  \n",
      " 34  isNoisy        107084 non-null  int64  \n",
      " 35  FinalOutput    107084 non-null  int64  \n",
      " 36  OptOut         107084 non-null  int64  \n",
      " 37  layer3_result  107084 non-null  int64  \n",
      "dtypes: float64(5), int64(26), object(7)\n",
      "memory usage: 31.9+ MB\n"
     ]
    }
   ],
   "source": [
    "ratings.info()"
   ]
  },
  {
   "cell_type": "code",
   "execution_count": 6,
   "id": "e5dcc2ff-50b5-4076-a512-c4b3b72c3e60",
   "metadata": {},
   "outputs": [
    {
     "name": "stdout",
     "output_type": "stream",
     "text": [
      "107084\n"
     ]
    }
   ],
   "source": [
    "print(len(ratings))"
   ]
  },
  {
   "cell_type": "code",
   "execution_count": 7,
   "id": "68c24ac5-3739-48f3-ba52-780b81e8bab4",
   "metadata": {},
   "outputs": [
    {
     "data": {
      "text/plain": [
       "'\\ntry:\\n    user_embeddings = model.user_embeddings.weight.detach().cpu().numpy()\\n    item_embeddings = model.item_embeddings.weight.detach().cpu().numpy()\\n    user_df = pd.DataFrame(user_embeddings, index=user_mapping.keys())\\n    item_df = pd.DataFrame(item_embeddings, index=item_mapping.keys())\\n    user_df.to_csv(\\'user_embedding_CH.csv\\')\\n    item_df.to_csv(\\'item_embedding_CH.csv\\')\\nexcept ImportError:\\n    print(\"NumPy or Pandas not available. Saved as PyTorch tensors.\")\\n'"
      ]
     },
     "execution_count": 7,
     "metadata": {},
     "output_type": "execute_result"
    }
   ],
   "source": [
    "# Create mappings for users and items\n",
    "user_mapping = {id: idx for idx, id in enumerate(ratings['userId'].unique())}\n",
    "item_mapping = {id: idx for idx, id in enumerate(ratings['itemId'].unique())}\n",
    "\n",
    "ratings['user_idx'] = ratings['userId'].map(user_mapping)\n",
    "ratings['item_idx'] = ratings['itemId'].map(item_mapping)\n",
    "\n",
    "num_users = len(user_mapping)\n",
    "num_items = len(item_mapping)\n",
    "\n",
    "# Create a dataset class for training\n",
    "class RatingDataset(Dataset):\n",
    "    def __init__(self, ratings):\n",
    "        self.ratings = ratings\n",
    "\n",
    "    def __len__(self):\n",
    "        return len(self.ratings)\n",
    "\n",
    "    def __getitem__(self, idx):\n",
    "        user = self.ratings.iloc[idx]['user_idx']\n",
    "        item = self.ratings.iloc[idx]['item_idx']\n",
    "        return torch.tensor(user, dtype=torch.long), torch.tensor(item, dtype=torch.long)\n",
    "\n",
    "dataset = RatingDataset(ratings)\n",
    "data_loader = DataLoader(dataset, batch_size=1024, shuffle=True)\n",
    "\n",
    "# Initialize the LightGCN model\n",
    "model = LightGCN(num_users, num_items)\n",
    "\n",
    "# Training loop (simplified version)\n",
    "optimizer = torch.optim.Adam(model.parameters(), lr=0.01)\n",
    "\n",
    "for epoch in range(10):  # Example with 10 epochs\n",
    "    for user_indices, item_indices in data_loader:\n",
    "        optimizer.zero_grad()\n",
    "        user_emb, item_emb = model(user_indices, item_indices)\n",
    "        loss = (user_emb - item_emb).pow(2).mean()\n",
    "        loss.backward()\n",
    "        optimizer.step()\n",
    "\n",
    "# Save embeddings to CSV\n",
    "#user_embeddings = model.user_embeddings.weight.detach().cpu().numpy()\n",
    "#item_embeddings = model.item_embeddings.weight.detach().cpu().numpy()\n",
    "\n",
    "user_embeddings = model.user_embeddings.weight.detach().numpy()\n",
    "item_embeddings = model.item_embeddings.weight.detach().numpy()\n",
    "\n",
    "#torch.save(model.user_embeddings.weight.detach().cpu(), 'user_embeddings.pt')\n",
    "#torch.save(model.item_embeddings.weight.detach().cpu(), 'item_embeddings.pt')\n",
    "\n",
    "user_df = pd.DataFrame(user_embeddings, index=user_mapping.keys())\n",
    "item_df = pd.DataFrame(item_embeddings, index=item_mapping.keys())\n",
    "\n",
    "\n",
    "\n",
    "'''\n",
    "try:\n",
    "    user_embeddings = model.user_embeddings.weight.detach().cpu().numpy()\n",
    "    item_embeddings = model.item_embeddings.weight.detach().cpu().numpy()\n",
    "    user_df = pd.DataFrame(user_embeddings, index=user_mapping.keys())\n",
    "    item_df = pd.DataFrame(item_embeddings, index=item_mapping.keys())\n",
    "    user_df.to_csv('user_embedding_CH.csv')\n",
    "    item_df.to_csv('item_embedding_CH.csv')\n",
    "except ImportError:\n",
    "    print(\"NumPy or Pandas not available. Saved as PyTorch tensors.\")\n",
    "'''\n"
   ]
  },
  {
   "cell_type": "code",
   "execution_count": 8,
   "id": "b54a268c-78c0-42f3-af75-092d2d2a668d",
   "metadata": {},
   "outputs": [
    {
     "data": {
      "text/html": [
       "<div>\n",
       "<style scoped>\n",
       "    .dataframe tbody tr th:only-of-type {\n",
       "        vertical-align: middle;\n",
       "    }\n",
       "\n",
       "    .dataframe tbody tr th {\n",
       "        vertical-align: top;\n",
       "    }\n",
       "\n",
       "    .dataframe thead th {\n",
       "        text-align: right;\n",
       "    }\n",
       "</style>\n",
       "<table border=\"1\" class=\"dataframe\">\n",
       "  <thead>\n",
       "    <tr style=\"text-align: right;\">\n",
       "      <th></th>\n",
       "      <th>0</th>\n",
       "      <th>1</th>\n",
       "      <th>2</th>\n",
       "      <th>3</th>\n",
       "      <th>4</th>\n",
       "      <th>5</th>\n",
       "      <th>6</th>\n",
       "      <th>7</th>\n",
       "      <th>8</th>\n",
       "      <th>9</th>\n",
       "      <th>...</th>\n",
       "      <th>54</th>\n",
       "      <th>55</th>\n",
       "      <th>56</th>\n",
       "      <th>57</th>\n",
       "      <th>58</th>\n",
       "      <th>59</th>\n",
       "      <th>60</th>\n",
       "      <th>61</th>\n",
       "      <th>62</th>\n",
       "      <th>63</th>\n",
       "    </tr>\n",
       "  </thead>\n",
       "  <tbody>\n",
       "    <tr>\n",
       "      <th>30812</th>\n",
       "      <td>-0.003382</td>\n",
       "      <td>-0.007927</td>\n",
       "      <td>-0.012791</td>\n",
       "      <td>0.006440</td>\n",
       "      <td>-0.006063</td>\n",
       "      <td>-0.002752</td>\n",
       "      <td>0.007867</td>\n",
       "      <td>0.003004</td>\n",
       "      <td>-0.001990</td>\n",
       "      <td>-0.000872</td>\n",
       "      <td>...</td>\n",
       "      <td>-0.004355</td>\n",
       "      <td>0.003541</td>\n",
       "      <td>0.000842</td>\n",
       "      <td>0.000336</td>\n",
       "      <td>0.000727</td>\n",
       "      <td>0.002702</td>\n",
       "      <td>-0.000550</td>\n",
       "      <td>-0.009633</td>\n",
       "      <td>-0.000432</td>\n",
       "      <td>-0.003852</td>\n",
       "    </tr>\n",
       "    <tr>\n",
       "      <th>2353</th>\n",
       "      <td>-0.005206</td>\n",
       "      <td>-0.019404</td>\n",
       "      <td>-0.010282</td>\n",
       "      <td>-0.006031</td>\n",
       "      <td>0.001181</td>\n",
       "      <td>0.016274</td>\n",
       "      <td>0.012071</td>\n",
       "      <td>0.000728</td>\n",
       "      <td>-0.019885</td>\n",
       "      <td>0.022068</td>\n",
       "      <td>...</td>\n",
       "      <td>0.007383</td>\n",
       "      <td>-0.004535</td>\n",
       "      <td>-0.015098</td>\n",
       "      <td>0.003748</td>\n",
       "      <td>-0.006119</td>\n",
       "      <td>-0.004245</td>\n",
       "      <td>0.023018</td>\n",
       "      <td>-0.001427</td>\n",
       "      <td>-0.003798</td>\n",
       "      <td>0.011743</td>\n",
       "    </tr>\n",
       "    <tr>\n",
       "      <th>1645</th>\n",
       "      <td>0.031058</td>\n",
       "      <td>-0.005008</td>\n",
       "      <td>0.035542</td>\n",
       "      <td>0.018180</td>\n",
       "      <td>0.018018</td>\n",
       "      <td>0.024922</td>\n",
       "      <td>0.016597</td>\n",
       "      <td>0.001992</td>\n",
       "      <td>-0.020592</td>\n",
       "      <td>0.006128</td>\n",
       "      <td>...</td>\n",
       "      <td>-0.028215</td>\n",
       "      <td>0.016821</td>\n",
       "      <td>0.001081</td>\n",
       "      <td>0.013601</td>\n",
       "      <td>0.016344</td>\n",
       "      <td>-0.000074</td>\n",
       "      <td>0.052783</td>\n",
       "      <td>-0.014248</td>\n",
       "      <td>-0.008143</td>\n",
       "      <td>-0.016399</td>\n",
       "    </tr>\n",
       "    <tr>\n",
       "      <th>36517</th>\n",
       "      <td>0.004572</td>\n",
       "      <td>-0.018915</td>\n",
       "      <td>-0.017203</td>\n",
       "      <td>0.021992</td>\n",
       "      <td>-0.028250</td>\n",
       "      <td>0.000657</td>\n",
       "      <td>0.008045</td>\n",
       "      <td>0.001630</td>\n",
       "      <td>-0.013293</td>\n",
       "      <td>-0.030316</td>\n",
       "      <td>...</td>\n",
       "      <td>-0.001789</td>\n",
       "      <td>-0.035111</td>\n",
       "      <td>0.018306</td>\n",
       "      <td>-0.005790</td>\n",
       "      <td>0.023170</td>\n",
       "      <td>-0.007304</td>\n",
       "      <td>0.028234</td>\n",
       "      <td>-0.028824</td>\n",
       "      <td>-0.003474</td>\n",
       "      <td>0.022613</td>\n",
       "    </tr>\n",
       "    <tr>\n",
       "      <th>2181</th>\n",
       "      <td>0.015247</td>\n",
       "      <td>-0.012352</td>\n",
       "      <td>0.048768</td>\n",
       "      <td>-0.038547</td>\n",
       "      <td>0.047754</td>\n",
       "      <td>-0.035440</td>\n",
       "      <td>-0.009466</td>\n",
       "      <td>-0.012421</td>\n",
       "      <td>0.003336</td>\n",
       "      <td>0.017260</td>\n",
       "      <td>...</td>\n",
       "      <td>-0.043801</td>\n",
       "      <td>-0.018412</td>\n",
       "      <td>-0.029922</td>\n",
       "      <td>-0.009168</td>\n",
       "      <td>0.013003</td>\n",
       "      <td>-0.021407</td>\n",
       "      <td>0.001182</td>\n",
       "      <td>-0.073660</td>\n",
       "      <td>0.015685</td>\n",
       "      <td>0.042281</td>\n",
       "    </tr>\n",
       "  </tbody>\n",
       "</table>\n",
       "<p>5 rows × 64 columns</p>\n",
       "</div>"
      ],
      "text/plain": [
       "             0         1         2         3         4         5         6   \\\n",
       "30812 -0.003382 -0.007927 -0.012791  0.006440 -0.006063 -0.002752  0.007867   \n",
       "2353  -0.005206 -0.019404 -0.010282 -0.006031  0.001181  0.016274  0.012071   \n",
       "1645   0.031058 -0.005008  0.035542  0.018180  0.018018  0.024922  0.016597   \n",
       "36517  0.004572 -0.018915 -0.017203  0.021992 -0.028250  0.000657  0.008045   \n",
       "2181   0.015247 -0.012352  0.048768 -0.038547  0.047754 -0.035440 -0.009466   \n",
       "\n",
       "             7         8         9   ...        54        55        56  \\\n",
       "30812  0.003004 -0.001990 -0.000872  ... -0.004355  0.003541  0.000842   \n",
       "2353   0.000728 -0.019885  0.022068  ...  0.007383 -0.004535 -0.015098   \n",
       "1645   0.001992 -0.020592  0.006128  ... -0.028215  0.016821  0.001081   \n",
       "36517  0.001630 -0.013293 -0.030316  ... -0.001789 -0.035111  0.018306   \n",
       "2181  -0.012421  0.003336  0.017260  ... -0.043801 -0.018412 -0.029922   \n",
       "\n",
       "             57        58        59        60        61        62        63  \n",
       "30812  0.000336  0.000727  0.002702 -0.000550 -0.009633 -0.000432 -0.003852  \n",
       "2353   0.003748 -0.006119 -0.004245  0.023018 -0.001427 -0.003798  0.011743  \n",
       "1645   0.013601  0.016344 -0.000074  0.052783 -0.014248 -0.008143 -0.016399  \n",
       "36517 -0.005790  0.023170 -0.007304  0.028234 -0.028824 -0.003474  0.022613  \n",
       "2181  -0.009168  0.013003 -0.021407  0.001182 -0.073660  0.015685  0.042281  \n",
       "\n",
       "[5 rows x 64 columns]"
      ]
     },
     "execution_count": 8,
     "metadata": {},
     "output_type": "execute_result"
    }
   ],
   "source": [
    "item_df.head()"
   ]
  },
  {
   "cell_type": "code",
   "execution_count": 9,
   "id": "52a272a4-9207-41ff-bcbf-145f122963c5",
   "metadata": {},
   "outputs": [
    {
     "name": "stdout",
     "output_type": "stream",
     "text": [
      "5522\n"
     ]
    }
   ],
   "source": [
    "user_df.head()\n",
    "print(len(user_df))"
   ]
  },
  {
   "cell_type": "code",
   "execution_count": 10,
   "id": "60e65d03-2480-4cb9-a71d-280366f3e1a1",
   "metadata": {},
   "outputs": [],
   "source": [
    "user_df.to_csv(otp + dataset_name + '/user_embedding_CH.csv')\n",
    "item_df.to_csv(otp + dataset_name +'/item_embedding_CH.csv')"
   ]
  },
  {
   "cell_type": "code",
   "execution_count": 11,
   "id": "1890f51f-426b-48ba-ac13-697dd9e2388f",
   "metadata": {},
   "outputs": [
    {
     "name": "stdout",
     "output_type": "stream",
     "text": [
      "10339\n"
     ]
    }
   ],
   "source": [
    "print(len(item_df))"
   ]
  },
  {
   "cell_type": "code",
   "execution_count": null,
   "id": "106ba41c-442f-4f62-ac09-6dce0a1c4ac3",
   "metadata": {},
   "outputs": [],
   "source": []
  }
 ],
 "metadata": {
  "kernelspec": {
   "display_name": "Python 3 (ipykernel)",
   "language": "python",
   "name": "python3"
  },
  "language_info": {
   "codemirror_mode": {
    "name": "ipython",
    "version": 3
   },
   "file_extension": ".py",
   "mimetype": "text/x-python",
   "name": "python",
   "nbconvert_exporter": "python",
   "pygments_lexer": "ipython3",
   "version": "3.10.0"
  }
 },
 "nbformat": 4,
 "nbformat_minor": 5
}
